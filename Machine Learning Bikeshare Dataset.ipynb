{
  "cells": [
    {
      "cell_type": "code",
      "execution_count": 1,
      "metadata": {
        "colab": {
          "base_uri": "https://localhost:8080/"
        },
        "id": "4dpUidwJVrRj",
        "outputId": "425f244b-4ca0-45cf-a1f8-1e45901a02dd"
      },
      "outputs": [],
      "source": [
        "# from google.colab import drive\n",
        "# drive.mount('/content/drive')"
      ]
    },
    {
      "cell_type": "markdown",
      "metadata": {
        "id": "Xid08TTDVoPH"
      },
      "source": [
        "# **Contents**\n",
        "\n",
        "1. Business Problem Understanding\n",
        "2. Data Understanding\n",
        "3. Data Preprocessing\n",
        "4. Modeling\n",
        "5. Conclusion\n",
        "6. Recommendation\n",
        "\n",
        "****"
      ]
    },
    {
      "cell_type": "markdown",
      "metadata": {
        "id": "ThMX50uUVoPM"
      },
      "source": [
        "# **Business Problem Understanding**"
      ]
    },
    {
      "cell_type": "markdown",
      "metadata": {
        "id": "Yy2uVRIsVoPN"
      },
      "source": [
        "**Context**\n",
        "\n",
        "Bikeshare, short for \"bike-sharing,\" is a transportation system that allows individuals to rent bicycles for short periods, typically for short trips or commutes within urban areas. It offers a convenient and flexible mode of transportation, often complementing public transit systems and providing an environmentally friendly and healthy alternative to cars for short-distance travel\n",
        "\n",
        "To rent a bike from a bikeshare system, start by signing up for a membership, which often involves creating an account on the system's website or mobile app and providing personal and payment information. Choose a membership plan that suits your needs, and consider downloading the mobile app if available for easier bike location and rental. To rent a bike, locate a nearby bikeshare station with available bikes using the app or station maps. Depending on the system's technology, you can rent a bike by inserting your membership card into the bike dock's card reader, using the mobile app to unlock it by scanning a QR code or entering a code, or using a provided PIN code. Adjust the bike for comfort, start your ride, and when finished, return the bike to any docking station within the service area, ensuring it's securely docked. Confirm the end of your ride, and check your account or the app for ride summaries and any associated charges. Always follow local traffic laws and safety guidelines while riding."
      ]
    },
    {
      "cell_type": "markdown",
      "metadata": {
        "id": "kDaJ-iSaVoPO"
      },
      "source": [
        "**Problem Statement and Objective**\n",
        "\n",
        "The bikeshare system faces a dual challenge: optimizing fleet distribution throughout the day to align with fluctuating demand patterns and ensuring the safety and satisfaction of its customers. Efficient fleet distribution involves strategically allocating bikes to meet demand, enhancing operational efficiency and customer convenience. Concurrently, ensuring customer safety and satisfaction necessitates regular fleet maintenance to prevent malfunctions and accidents, requiring seamless scheduling to minimize customer disruption. The objective is to develop a predictive tool that accurately forecasts demand, allowing for optimal bike allocation to match demand dynamics, and facilitates efficient fleet maintenance scheduling to enhance safety and overall customer contentment within the bikeshare system."
      ]
    },
    {
      "cell_type": "markdown",
      "metadata": {
        "id": "bq3SBX4pVoPP"
      },
      "source": [
        "**Goals**\n",
        "\n",
        "The central challenge of this project is to optimize fleet distribution to effectively meet varying customer demands throughout the day. This involves strategically allocating bikes at different times to ensure customer accessibility and satisfaction. Simultaneously, the project aims to develop a precise machine learning model that predicts customer demand for bikeshare services accurately. The primary goal is to enable the bikeshare system to proactively schedule fleet maintenance while maintaining a significant number of bikes readily available for users. This careful fleet management ensures operational efficiency while prioritizing customer safety and preventing customer loss due to maintenance-related disruptions. Ultimately, the project seeks to create a dependable demand forecasting system that aids bikeshare operators in efficiently maintaining their bicycles and enhancing safety, customer satisfaction, and overall operational effectiveness within the bikeshare system."
      ]
    },
    {
      "cell_type": "markdown",
      "metadata": {
        "id": "J_fqaEXGVoPQ"
      },
      "source": [
        "**Analytic Approach**\n",
        "\n",
        "We will build a regression model that will help the company provide a prediction tool for bike rental counts for newly added stations in the bikeshare system. This tool will be useful for optimizing their fleet."
      ]
    },
    {
      "cell_type": "markdown",
      "metadata": {
        "id": "o5YEGQh1VoPQ"
      },
      "source": [
        "**Metric Evaluation**\n",
        "\n",
        "The evaluation metrics to be used include RMSE (Root Mean Squared Error), MAE (Mean Absolute Error), and MAPE (Mean Absolute Percentage Error), where RMSE is the square root of the average of squared errors, MAE is the average of the absolute values of errors, and MAPE is the average percentage error generated by the regression model. The smaller the values of RMSE, MAE, and MAPE produced, the more accurate the model is in predicting rental prices within the limitations of the features used.\n",
        "\n",
        "Furthermore, we can also use the R-squared or adj. R-squared values if the selected final model is a linear model. The R-squared value is used to assess how well the model can represent the overall variance in the data. The closer the value is to 1, the better the model fits the observed data. However, this metric is not valid for non-linear models."
      ]
    },
    {
      "cell_type": "markdown",
      "metadata": {
        "id": "gsstI8HiVoPR"
      },
      "source": [
        "# **Data Understanding**"
      ]
    },
    {
      "cell_type": "markdown",
      "metadata": {
        "id": "e_DRodZ5VoPR"
      },
      "source": [
        "- The dataset consists of bicycle rental data from January 1, 2011, to December 31, 2012.\n",
        "- Each row of data represents information related to bicycle rentals.\n",
        "\n",
        "**Attributes Information**\n",
        "\n",
        "| **Attribute** | **Data Type** | **Description** |\n",
        "| --- | --- | --- |\n",
        "| dteday | Object | Date |\n",
        "| hum | Float | normalized humidity. The values are divided into 100 (max) |\n",
        "| weathersit | Integer | 1: Clear, Few clouds, Partly cloudy, Partly cloudy ; 2: Mist + Cloudy, Mist + Broken clouds, Mist + Few clouds, Mist ; 3: Light Snow, Light Rain + Thunderstorm + Scattered clouds, Light Rain + Scattered clouds ; 4: Heavy Rain + Ice Pallets + Thunderstorm + Mist, Snow + Fog |\n",
        "| holiday | Integer | holiday or not |\n",
        "| season | Integer | 1: winter, 2: spring, 3: summer, 4: fall |\n",
        "| atemp | Float | Normalized feeling temperature in Celsius. The values are derived via (t-tmin)/(tmax-tmin), tmin=-16, t_max=+50 (only in hourly scale) |\n",
        "| temp | Float | normalized temperature in Celsius. The values are derived via (t-tmin)/(tmax-tmin), tmin=-8, t_max=+39 (only in hourly scale) |\n",
        "| hr | Integer | hour (0 to 23) |\n",
        "| casual | Integer | count of casual users |\n",
        "| registered | Integer | count of registered users |\n",
        "| cnt | Integer | count of total rental bikes including both casual and registered |\n",
        "\n",
        "<br>"
      ]
    },
    {
      "cell_type": "code",
      "execution_count": 2,
      "metadata": {
        "id": "UcjWUqCAVoPS"
      },
      "outputs": [],
      "source": [
        "# Import library that need to explore the dataset\n",
        "import pandas as pd\n",
        "import numpy as np\n",
        "import matplotlib.pyplot as plt\n",
        "import seaborn as sns\n",
        "\n",
        "import warnings\n",
        "warnings.filterwarnings('ignore')"
      ]
    },
    {
      "cell_type": "code",
      "execution_count": 3,
      "metadata": {
        "colab": {
          "base_uri": "https://localhost:8080/",
          "height": 206
        },
        "id": "nWq0NCcYVoPT",
        "outputId": "e4b8d7a5-ee99-4341-aefb-e32753dc32f1"
      },
      "outputs": [
        {
          "data": {
            "text/html": [
              "<div>\n",
              "<style scoped>\n",
              "    .dataframe tbody tr th:only-of-type {\n",
              "        vertical-align: middle;\n",
              "    }\n",
              "\n",
              "    .dataframe tbody tr th {\n",
              "        vertical-align: top;\n",
              "    }\n",
              "\n",
              "    .dataframe thead th {\n",
              "        text-align: right;\n",
              "    }\n",
              "</style>\n",
              "<table border=\"1\" class=\"dataframe\">\n",
              "  <thead>\n",
              "    <tr style=\"text-align: right;\">\n",
              "      <th></th>\n",
              "      <th>dteday</th>\n",
              "      <th>hum</th>\n",
              "      <th>weathersit</th>\n",
              "      <th>holiday</th>\n",
              "      <th>season</th>\n",
              "      <th>atemp</th>\n",
              "      <th>temp</th>\n",
              "      <th>hr</th>\n",
              "      <th>casual</th>\n",
              "      <th>registered</th>\n",
              "      <th>cnt</th>\n",
              "    </tr>\n",
              "  </thead>\n",
              "  <tbody>\n",
              "    <tr>\n",
              "      <th>0</th>\n",
              "      <td>2011-12-09</td>\n",
              "      <td>0.62</td>\n",
              "      <td>1</td>\n",
              "      <td>0</td>\n",
              "      <td>4</td>\n",
              "      <td>0.3485</td>\n",
              "      <td>0.36</td>\n",
              "      <td>16</td>\n",
              "      <td>24</td>\n",
              "      <td>226</td>\n",
              "      <td>250</td>\n",
              "    </tr>\n",
              "    <tr>\n",
              "      <th>1</th>\n",
              "      <td>2012-06-17</td>\n",
              "      <td>0.64</td>\n",
              "      <td>1</td>\n",
              "      <td>0</td>\n",
              "      <td>2</td>\n",
              "      <td>0.5152</td>\n",
              "      <td>0.54</td>\n",
              "      <td>4</td>\n",
              "      <td>2</td>\n",
              "      <td>16</td>\n",
              "      <td>18</td>\n",
              "    </tr>\n",
              "    <tr>\n",
              "      <th>2</th>\n",
              "      <td>2011-06-15</td>\n",
              "      <td>0.53</td>\n",
              "      <td>1</td>\n",
              "      <td>0</td>\n",
              "      <td>2</td>\n",
              "      <td>0.6212</td>\n",
              "      <td>0.62</td>\n",
              "      <td>23</td>\n",
              "      <td>17</td>\n",
              "      <td>90</td>\n",
              "      <td>107</td>\n",
              "    </tr>\n",
              "    <tr>\n",
              "      <th>3</th>\n",
              "      <td>2012-03-31</td>\n",
              "      <td>0.87</td>\n",
              "      <td>2</td>\n",
              "      <td>0</td>\n",
              "      <td>2</td>\n",
              "      <td>0.3485</td>\n",
              "      <td>0.36</td>\n",
              "      <td>8</td>\n",
              "      <td>19</td>\n",
              "      <td>126</td>\n",
              "      <td>145</td>\n",
              "    </tr>\n",
              "    <tr>\n",
              "      <th>4</th>\n",
              "      <td>2012-07-31</td>\n",
              "      <td>0.55</td>\n",
              "      <td>1</td>\n",
              "      <td>0</td>\n",
              "      <td>3</td>\n",
              "      <td>0.6970</td>\n",
              "      <td>0.76</td>\n",
              "      <td>18</td>\n",
              "      <td>99</td>\n",
              "      <td>758</td>\n",
              "      <td>857</td>\n",
              "    </tr>\n",
              "  </tbody>\n",
              "</table>\n",
              "</div>"
            ],
            "text/plain": [
              "       dteday   hum  weathersit  holiday  season   atemp  temp  hr  casual  \\\n",
              "0  2011-12-09  0.62           1        0       4  0.3485  0.36  16      24   \n",
              "1  2012-06-17  0.64           1        0       2  0.5152  0.54   4       2   \n",
              "2  2011-06-15  0.53           1        0       2  0.6212  0.62  23      17   \n",
              "3  2012-03-31  0.87           2        0       2  0.3485  0.36   8      19   \n",
              "4  2012-07-31  0.55           1        0       3  0.6970  0.76  18      99   \n",
              "\n",
              "   registered  cnt  \n",
              "0         226  250  \n",
              "1          16   18  \n",
              "2          90  107  \n",
              "3         126  145  \n",
              "4         758  857  "
            ]
          },
          "execution_count": 3,
          "metadata": {},
          "output_type": "execute_result"
        }
      ],
      "source": [
        "df = pd.read_csv('data_bike_sharing.csv')\n",
        "df.head()"
      ]
    },
    {
      "cell_type": "markdown",
      "metadata": {
        "id": "VjeraJmGVoPU"
      },
      "source": [
        "# **Exploratory Data Analysis**"
      ]
    },
    {
      "cell_type": "code",
      "execution_count": 4,
      "metadata": {
        "colab": {
          "base_uri": "https://localhost:8080/"
        },
        "id": "M_seZMGeVoPU",
        "outputId": "a594a581-5a63-4cd3-ee2b-34ba77214a17"
      },
      "outputs": [
        {
          "name": "stdout",
          "output_type": "stream",
          "text": [
            "<class 'pandas.core.frame.DataFrame'>\n",
            "RangeIndex: 12165 entries, 0 to 12164\n",
            "Data columns (total 11 columns):\n",
            " #   Column      Non-Null Count  Dtype  \n",
            "---  ------      --------------  -----  \n",
            " 0   dteday      12165 non-null  object \n",
            " 1   hum         12165 non-null  float64\n",
            " 2   weathersit  12165 non-null  int64  \n",
            " 3   holiday     12165 non-null  int64  \n",
            " 4   season      12165 non-null  int64  \n",
            " 5   atemp       12165 non-null  float64\n",
            " 6   temp        12165 non-null  float64\n",
            " 7   hr          12165 non-null  int64  \n",
            " 8   casual      12165 non-null  int64  \n",
            " 9   registered  12165 non-null  int64  \n",
            " 10  cnt         12165 non-null  int64  \n",
            "dtypes: float64(3), int64(7), object(1)\n",
            "memory usage: 1.0+ MB\n"
          ]
        }
      ],
      "source": [
        "df.info()"
      ]
    },
    {
      "cell_type": "code",
      "execution_count": 5,
      "metadata": {
        "colab": {
          "base_uri": "https://localhost:8080/"
        },
        "id": "VRxCCtskVoPV",
        "outputId": "365945c3-1337-499d-d106-a29827da36ff"
      },
      "outputs": [
        {
          "data": {
            "text/plain": [
              "dteday        0\n",
              "hum           0\n",
              "weathersit    0\n",
              "holiday       0\n",
              "season        0\n",
              "atemp         0\n",
              "temp          0\n",
              "hr            0\n",
              "casual        0\n",
              "registered    0\n",
              "cnt           0\n",
              "dtype: int64"
            ]
          },
          "execution_count": 5,
          "metadata": {},
          "output_type": "execute_result"
        }
      ],
      "source": [
        "df.isna().sum()"
      ]
    },
    {
      "cell_type": "code",
      "execution_count": 6,
      "metadata": {
        "colab": {
          "base_uri": "https://localhost:8080/",
          "height": 394
        },
        "id": "Oke9f3OlVoPV",
        "outputId": "7755c3c3-6d46-41ed-aaa5-ca3d92b03cfd"
      },
      "outputs": [
        {
          "data": {
            "text/html": [
              "<div>\n",
              "<style scoped>\n",
              "    .dataframe tbody tr th:only-of-type {\n",
              "        vertical-align: middle;\n",
              "    }\n",
              "\n",
              "    .dataframe tbody tr th {\n",
              "        vertical-align: top;\n",
              "    }\n",
              "\n",
              "    .dataframe thead th {\n",
              "        text-align: right;\n",
              "    }\n",
              "</style>\n",
              "<table border=\"1\" class=\"dataframe\">\n",
              "  <thead>\n",
              "    <tr style=\"text-align: right;\">\n",
              "      <th></th>\n",
              "      <th>dteday</th>\n",
              "      <th>hum</th>\n",
              "      <th>weathersit</th>\n",
              "      <th>holiday</th>\n",
              "      <th>season</th>\n",
              "      <th>atemp</th>\n",
              "      <th>temp</th>\n",
              "      <th>hr</th>\n",
              "      <th>casual</th>\n",
              "      <th>registered</th>\n",
              "      <th>cnt</th>\n",
              "    </tr>\n",
              "  </thead>\n",
              "  <tbody>\n",
              "    <tr>\n",
              "      <th>count</th>\n",
              "      <td>12165</td>\n",
              "      <td>12165.000000</td>\n",
              "      <td>12165.000000</td>\n",
              "      <td>12165.000000</td>\n",
              "      <td>12165.000000</td>\n",
              "      <td>12165.000000</td>\n",
              "      <td>12165.000000</td>\n",
              "      <td>12165.000000</td>\n",
              "      <td>12165.000000</td>\n",
              "      <td>12165.000000</td>\n",
              "      <td>12165.000000</td>\n",
              "    </tr>\n",
              "    <tr>\n",
              "      <th>unique</th>\n",
              "      <td>731</td>\n",
              "      <td>NaN</td>\n",
              "      <td>NaN</td>\n",
              "      <td>NaN</td>\n",
              "      <td>NaN</td>\n",
              "      <td>NaN</td>\n",
              "      <td>NaN</td>\n",
              "      <td>NaN</td>\n",
              "      <td>NaN</td>\n",
              "      <td>NaN</td>\n",
              "      <td>NaN</td>\n",
              "    </tr>\n",
              "    <tr>\n",
              "      <th>top</th>\n",
              "      <td>2011-08-09</td>\n",
              "      <td>NaN</td>\n",
              "      <td>NaN</td>\n",
              "      <td>NaN</td>\n",
              "      <td>NaN</td>\n",
              "      <td>NaN</td>\n",
              "      <td>NaN</td>\n",
              "      <td>NaN</td>\n",
              "      <td>NaN</td>\n",
              "      <td>NaN</td>\n",
              "      <td>NaN</td>\n",
              "    </tr>\n",
              "    <tr>\n",
              "      <th>freq</th>\n",
              "      <td>22</td>\n",
              "      <td>NaN</td>\n",
              "      <td>NaN</td>\n",
              "      <td>NaN</td>\n",
              "      <td>NaN</td>\n",
              "      <td>NaN</td>\n",
              "      <td>NaN</td>\n",
              "      <td>NaN</td>\n",
              "      <td>NaN</td>\n",
              "      <td>NaN</td>\n",
              "      <td>NaN</td>\n",
              "    </tr>\n",
              "    <tr>\n",
              "      <th>mean</th>\n",
              "      <td>NaN</td>\n",
              "      <td>0.625451</td>\n",
              "      <td>1.416934</td>\n",
              "      <td>0.029758</td>\n",
              "      <td>2.488615</td>\n",
              "      <td>0.476996</td>\n",
              "      <td>0.498185</td>\n",
              "      <td>11.519770</td>\n",
              "      <td>35.834443</td>\n",
              "      <td>153.436580</td>\n",
              "      <td>189.271023</td>\n",
              "    </tr>\n",
              "    <tr>\n",
              "      <th>std</th>\n",
              "      <td>NaN</td>\n",
              "      <td>0.192102</td>\n",
              "      <td>0.635937</td>\n",
              "      <td>0.169925</td>\n",
              "      <td>1.106157</td>\n",
              "      <td>0.171857</td>\n",
              "      <td>0.192492</td>\n",
              "      <td>6.931872</td>\n",
              "      <td>49.489286</td>\n",
              "      <td>151.046123</td>\n",
              "      <td>181.223903</td>\n",
              "    </tr>\n",
              "    <tr>\n",
              "      <th>min</th>\n",
              "      <td>NaN</td>\n",
              "      <td>0.000000</td>\n",
              "      <td>1.000000</td>\n",
              "      <td>0.000000</td>\n",
              "      <td>1.000000</td>\n",
              "      <td>0.000000</td>\n",
              "      <td>0.020000</td>\n",
              "      <td>0.000000</td>\n",
              "      <td>0.000000</td>\n",
              "      <td>0.000000</td>\n",
              "      <td>1.000000</td>\n",
              "    </tr>\n",
              "    <tr>\n",
              "      <th>25%</th>\n",
              "      <td>NaN</td>\n",
              "      <td>0.470000</td>\n",
              "      <td>1.000000</td>\n",
              "      <td>0.000000</td>\n",
              "      <td>2.000000</td>\n",
              "      <td>0.333300</td>\n",
              "      <td>0.340000</td>\n",
              "      <td>6.000000</td>\n",
              "      <td>4.000000</td>\n",
              "      <td>34.000000</td>\n",
              "      <td>40.000000</td>\n",
              "    </tr>\n",
              "    <tr>\n",
              "      <th>50%</th>\n",
              "      <td>NaN</td>\n",
              "      <td>0.620000</td>\n",
              "      <td>1.000000</td>\n",
              "      <td>0.000000</td>\n",
              "      <td>2.000000</td>\n",
              "      <td>0.484800</td>\n",
              "      <td>0.500000</td>\n",
              "      <td>12.000000</td>\n",
              "      <td>17.000000</td>\n",
              "      <td>115.000000</td>\n",
              "      <td>142.000000</td>\n",
              "    </tr>\n",
              "    <tr>\n",
              "      <th>75%</th>\n",
              "      <td>NaN</td>\n",
              "      <td>0.780000</td>\n",
              "      <td>2.000000</td>\n",
              "      <td>0.000000</td>\n",
              "      <td>3.000000</td>\n",
              "      <td>0.621200</td>\n",
              "      <td>0.660000</td>\n",
              "      <td>18.000000</td>\n",
              "      <td>49.000000</td>\n",
              "      <td>220.000000</td>\n",
              "      <td>282.000000</td>\n",
              "    </tr>\n",
              "    <tr>\n",
              "      <th>max</th>\n",
              "      <td>NaN</td>\n",
              "      <td>1.000000</td>\n",
              "      <td>4.000000</td>\n",
              "      <td>1.000000</td>\n",
              "      <td>4.000000</td>\n",
              "      <td>1.000000</td>\n",
              "      <td>1.000000</td>\n",
              "      <td>23.000000</td>\n",
              "      <td>362.000000</td>\n",
              "      <td>876.000000</td>\n",
              "      <td>970.000000</td>\n",
              "    </tr>\n",
              "  </tbody>\n",
              "</table>\n",
              "</div>"
            ],
            "text/plain": [
              "            dteday           hum    weathersit       holiday        season  \\\n",
              "count        12165  12165.000000  12165.000000  12165.000000  12165.000000   \n",
              "unique         731           NaN           NaN           NaN           NaN   \n",
              "top     2011-08-09           NaN           NaN           NaN           NaN   \n",
              "freq            22           NaN           NaN           NaN           NaN   \n",
              "mean           NaN      0.625451      1.416934      0.029758      2.488615   \n",
              "std            NaN      0.192102      0.635937      0.169925      1.106157   \n",
              "min            NaN      0.000000      1.000000      0.000000      1.000000   \n",
              "25%            NaN      0.470000      1.000000      0.000000      2.000000   \n",
              "50%            NaN      0.620000      1.000000      0.000000      2.000000   \n",
              "75%            NaN      0.780000      2.000000      0.000000      3.000000   \n",
              "max            NaN      1.000000      4.000000      1.000000      4.000000   \n",
              "\n",
              "               atemp          temp            hr        casual    registered  \\\n",
              "count   12165.000000  12165.000000  12165.000000  12165.000000  12165.000000   \n",
              "unique           NaN           NaN           NaN           NaN           NaN   \n",
              "top              NaN           NaN           NaN           NaN           NaN   \n",
              "freq             NaN           NaN           NaN           NaN           NaN   \n",
              "mean        0.476996      0.498185     11.519770     35.834443    153.436580   \n",
              "std         0.171857      0.192492      6.931872     49.489286    151.046123   \n",
              "min         0.000000      0.020000      0.000000      0.000000      0.000000   \n",
              "25%         0.333300      0.340000      6.000000      4.000000     34.000000   \n",
              "50%         0.484800      0.500000     12.000000     17.000000    115.000000   \n",
              "75%         0.621200      0.660000     18.000000     49.000000    220.000000   \n",
              "max         1.000000      1.000000     23.000000    362.000000    876.000000   \n",
              "\n",
              "                 cnt  \n",
              "count   12165.000000  \n",
              "unique           NaN  \n",
              "top              NaN  \n",
              "freq             NaN  \n",
              "mean      189.271023  \n",
              "std       181.223903  \n",
              "min         1.000000  \n",
              "25%        40.000000  \n",
              "50%       142.000000  \n",
              "75%       282.000000  \n",
              "max       970.000000  "
            ]
          },
          "execution_count": 6,
          "metadata": {},
          "output_type": "execute_result"
        }
      ],
      "source": [
        "df.describe(include='all')"
      ]
    },
    {
      "cell_type": "code",
      "execution_count": 7,
      "metadata": {
        "colab": {
          "base_uri": "https://localhost:8080/",
          "height": 487
        },
        "id": "Cw_PisnUVoPV",
        "outputId": "8a029f52-2b7a-4a6d-e5d4-276ae6497124"
      },
      "outputs": [
        {
          "data": {
            "image/png": "[encoded data removed]",
            "text/plain": [
              "<Figure size 1000x500 with 1 Axes>"
            ]
          },
          "metadata": {},
          "output_type": "display_data"
        }
      ],
      "source": [
        "plt.figure(figsize=(10,5))\n",
        "plt.title('Histogram Count')\n",
        "sns.histplot(data=df, x='cnt')\n",
        "plt.show()"
      ]
    },
    {
      "cell_type": "code",
      "execution_count": 8,
      "metadata": {
        "colab": {
          "base_uri": "https://localhost:8080/"
        },
        "id": "MCVdc5A4VoPV",
        "outputId": "4bc8a73f-d801-4538-d5ec-d9d43571368f"
      },
      "outputs": [
        {
          "name": "stdout",
          "output_type": "stream",
          "text": [
            "Not Normal Distribution\n"
          ]
        }
      ],
      "source": [
        "from scipy.stats import shapiro\n",
        "\n",
        "_, pval = shapiro(df['cnt'])\n",
        "\n",
        "if pval > 0.05:\n",
        "    print('Normal distribution')\n",
        "else:\n",
        "    print('Not Normal Distribution')"
      ]
    },
    {
      "cell_type": "markdown",
      "metadata": {},
      "source": [
        "The distribution of our target is not normal, there fore we going to add transformed target regressor in the model benchmarking"
      ]
    },
    {
      "cell_type": "markdown",
      "metadata": {
        "id": "X3teS-ciVoPW"
      },
      "source": [
        "# **Data Preprocessing**"
      ]
    },
    {
      "cell_type": "markdown",
      "metadata": {
        "id": "N17DaHWaVoPW"
      },
      "source": [
        "In this step, we will perform data cleaning to prepare the data for further analysis. The cleaned data will be used for subsequent analytical processes. Several tasks need to be performed, including:\n",
        "\n",
        "- Dropping features that are not relevant to the current problem.\n",
        "- Addressing missing values, either by dropping the corresponding features if they are not needed or by imputing values that make the most sense based on the specific case."
      ]
    },
    {
      "cell_type": "markdown",
      "metadata": {
        "id": "bTZnT72kVoPW"
      },
      "source": [
        "For the data preprocessing and feature engineering processes, we will use a dataframe that is a duplicate of the one used previously."
      ]
    },
    {
      "cell_type": "code",
      "execution_count": 9,
      "metadata": {
        "id": "GaYmmvVeVoPW"
      },
      "outputs": [],
      "source": [
        "df_model = df.copy()"
      ]
    },
    {
      "cell_type": "markdown",
      "metadata": {
        "id": "M8TJ6RanVoPX"
      },
      "source": [
        "##### Check Categorical and Numerical Value"
      ]
    },
    {
      "cell_type": "code",
      "execution_count": 10,
      "metadata": {
        "colab": {
          "base_uri": "https://localhost:8080/"
        },
        "id": "4GViU9jdVoPX",
        "outputId": "55adfd27-1223-46b8-e48a-d88209d9b7c4"
      },
      "outputs": [
        {
          "data": {
            "text/plain": [
              "['dteday']"
            ]
          },
          "execution_count": 10,
          "metadata": {},
          "output_type": "execute_result"
        }
      ],
      "source": [
        "cat_feature = [feature for feature in df_model.columns if (df_model[feature].dtype == 'O')]\n",
        "cat_feature"
      ]
    },
    {
      "cell_type": "code",
      "execution_count": 11,
      "metadata": {
        "colab": {
          "base_uri": "https://localhost:8080/"
        },
        "id": "kyM3J8WpVoPX",
        "outputId": "4dc5d5eb-716c-487c-ef12-2f158841c3e4"
      },
      "outputs": [
        {
          "name": "stdout",
          "output_type": "stream",
          "text": [
            "Total uique values in dteday:  731\n",
            "Unique values:  ['2011-12-09' '2012-06-17' '2011-06-15' '2012-03-31' '2012-07-31'\n",
            " '2012-10-01' '2012-08-28' '2012-01-01' '2011-10-13' '2012-06-09'\n",
            " '2011-06-28' '2011-12-21' '2012-01-31' '2012-02-07' '2012-05-15'\n",
            " '2011-01-04' '2012-02-27' '2012-08-21' '2011-02-13' '2012-07-09'\n",
            " '2012-12-18' '2011-06-07' '2012-09-26' '2012-08-20' '2011-02-17'\n",
            " '2012-05-08' '2012-06-26' '2011-09-02' '2011-03-29' '2012-06-16'\n",
            " '2011-09-17' '2011-07-10' '2011-02-02' '2012-09-23' '2011-02-25'\n",
            " '2011-03-12' '2011-05-09' '2012-08-26' '2011-03-31' '2012-03-22'\n",
            " '2012-08-24' '2012-05-31' '2012-09-08' '2011-06-25' '2011-10-09'\n",
            " '2011-05-05' '2012-05-14' '2012-07-22' '2011-04-02' '2012-02-04'\n",
            " '2012-10-22' '2012-02-23' '2012-03-08' '2011-07-23' '2012-01-17'\n",
            " '2012-06-22' '2012-10-06' '2012-10-15' '2011-04-07' '2012-01-03'\n",
            " '2011-07-18' '2011-10-19' '2011-12-26' '2011-08-10' '2011-11-07'\n",
            " '2012-12-17' '2012-03-02' '2011-02-26' '2011-08-22' '2011-03-02'\n",
            " '2012-01-28' '2011-10-16' '2011-12-02' '2012-02-18' '2012-11-16'\n",
            " '2011-11-06' '2012-05-18' '2011-04-22' '2011-01-30' '2011-08-06'\n",
            " '2011-07-30' '2011-01-28' '2011-02-18' '2011-04-15' '2011-11-30'\n",
            " '2012-01-26' '2012-06-04' '2011-11-24' '2012-11-27' '2011-01-22'\n",
            " '2012-04-02' '2012-07-15' '2011-03-23' '2011-12-31' '2011-03-09'\n",
            " '2012-01-11' '2011-02-24' '2011-01-29' '2012-01-08' '2012-04-05'\n",
            " '2012-08-07' '2012-04-23' '2012-03-28' '2012-05-03' '2011-05-30'\n",
            " '2011-01-02' '2012-01-05' '2012-08-13' '2012-01-10' '2012-10-11'\n",
            " '2011-06-01' '2012-11-02' '2011-05-19' '2012-10-12' '2011-09-20'\n",
            " '2012-11-20' '2011-04-05' '2012-03-27' '2012-08-15' '2011-12-05'\n",
            " '2011-08-09' '2011-03-06' '2011-01-09' '2011-06-03' '2011-06-06'\n",
            " '2012-06-27' '2012-05-04' '2011-03-11' '2011-10-27' '2012-09-11'\n",
            " '2012-11-22' '2012-09-13' '2012-05-17' '2012-02-09' '2011-11-14'\n",
            " '2011-05-25' '2011-01-08' '2012-12-29' '2012-02-08' '2012-11-10'\n",
            " '2012-12-24' '2011-05-29' '2012-04-01' '2012-05-05' '2011-12-27'\n",
            " '2011-12-25' '2011-09-10' '2011-04-01' '2011-02-11' '2011-01-13'\n",
            " '2012-04-29' '2011-11-05' '2012-02-24' '2012-07-10' '2011-07-28'\n",
            " '2011-11-16' '2012-12-01' '2012-10-27' '2012-08-31' '2011-06-19'\n",
            " '2012-06-20' '2012-05-01' '2011-11-21' '2012-06-30' '2011-11-12'\n",
            " '2012-06-10' '2011-03-19' '2011-04-19' '2011-08-30' '2012-03-09'\n",
            " '2011-12-03' '2012-05-22' '2011-12-13' '2012-08-11' '2011-08-02'\n",
            " '2012-03-21' '2011-10-12' '2012-08-18' '2012-05-25' '2012-10-31'\n",
            " '2011-11-18' '2012-07-14' '2012-11-29' '2012-07-17' '2012-04-26'\n",
            " '2011-08-16' '2012-11-23' '2011-03-26' '2011-10-23' '2011-08-08'\n",
            " '2012-02-16' '2011-01-15' '2012-01-19' '2011-06-26' '2011-08-26'\n",
            " '2011-09-09' '2012-12-16' '2012-06-12' '2012-01-27' '2011-04-12'\n",
            " '2011-09-24' '2011-09-18' '2011-09-08' '2012-11-01' '2011-11-29'\n",
            " '2012-08-02' '2011-11-20' '2011-07-17' '2012-08-12' '2012-09-14'\n",
            " '2011-05-21' '2011-08-14' '2011-02-19' '2012-06-24' '2011-07-21'\n",
            " '2012-07-24' '2012-11-06' '2012-05-02' '2012-06-13' '2011-05-01'\n",
            " '2012-02-11' '2011-10-25' '2011-03-01' '2011-05-07' '2011-06-05'\n",
            " '2012-04-10' '2011-11-08' '2011-10-30' '2011-12-08' '2011-08-07'\n",
            " '2011-07-09' '2012-03-05' '2011-05-24' '2012-10-09' '2011-10-21'\n",
            " '2012-04-14' '2011-02-10' '2012-05-11' '2011-11-25' '2011-11-10'\n",
            " '2011-10-03' '2012-04-12' '2012-04-09' '2012-11-21' '2011-07-26'\n",
            " '2012-04-19' '2012-12-10' '2012-04-04' '2011-04-14' '2011-09-01'\n",
            " '2012-11-12' '2012-02-13' '2012-04-30' '2011-11-13' '2012-12-12'\n",
            " '2012-04-15' '2011-08-31' '2012-03-01' '2011-12-15' '2011-08-20'\n",
            " '2011-08-17' '2011-05-31' '2011-10-24' '2011-03-08' '2012-08-03'\n",
            " '2012-08-23' '2011-07-25' '2012-04-11' '2011-11-19' '2011-12-12'\n",
            " '2012-02-14' '2012-01-18' '2012-06-25' '2012-07-28' '2011-04-27'\n",
            " '2011-10-07' '2012-02-10' '2012-05-23' '2012-01-12' '2011-11-02'\n",
            " '2011-05-08' '2011-11-17' '2012-09-29' '2011-12-16' '2011-03-10'\n",
            " '2011-08-05' '2011-03-14' '2012-09-22' '2011-04-17' '2012-05-27'\n",
            " '2012-10-16' '2011-07-06' '2011-05-22' '2011-03-21' '2012-12-08'\n",
            " '2012-05-10' '2011-08-03' '2012-01-24' '2011-03-07' '2011-12-11'\n",
            " '2012-09-19' '2011-06-29' '2011-01-14' '2012-03-11' '2011-05-26'\n",
            " '2011-09-26' '2012-07-26' '2011-12-19' '2011-10-18' '2012-09-09'\n",
            " '2012-11-18' '2011-11-23' '2012-07-04' '2011-05-10' '2011-03-04'\n",
            " '2012-06-08' '2012-08-30' '2012-05-20' '2011-06-08' '2011-08-23'\n",
            " '2011-01-26' '2011-05-18' '2011-10-10' '2011-01-10' '2011-09-04'\n",
            " '2012-08-01' '2011-07-13' '2011-04-13' '2012-11-24' '2012-06-06'\n",
            " '2012-12-30' '2012-11-17' '2012-09-30' '2011-04-11' '2012-06-02'\n",
            " '2012-11-19' '2012-08-09' '2012-06-28' '2012-11-13' '2011-02-05'\n",
            " '2011-11-09' '2012-11-09' '2012-01-25' '2011-07-07' '2012-11-25'\n",
            " '2012-04-28' '2011-08-27' '2011-06-11' '2011-01-01' '2012-07-21'\n",
            " '2012-10-03' '2012-11-28' '2011-07-16' '2011-02-12' '2012-06-01'\n",
            " '2012-12-27' '2011-11-01' '2011-09-28' '2011-04-20' '2011-02-23'\n",
            " '2011-08-18' '2011-02-09' '2012-04-22' '2011-06-09' '2011-06-10'\n",
            " '2011-09-12' '2012-07-08' '2011-08-01' '2012-03-04' '2011-01-25'\n",
            " '2011-06-13' '2011-07-19' '2012-10-24' '2011-06-12' '2011-01-11'\n",
            " '2012-05-12' '2011-01-16' '2012-04-06' '2011-01-23' '2012-09-28'\n",
            " '2012-04-16' '2012-09-04' '2011-07-02' '2011-01-03' '2012-08-17'\n",
            " '2011-07-08' '2011-06-21' '2012-12-04' '2012-06-03' '2011-12-29'\n",
            " '2012-07-06' '2012-09-24' '2012-04-24' '2012-10-20' '2011-06-30'\n",
            " '2012-10-26' '2011-07-20' '2011-03-22' '2011-08-21' '2012-10-07'\n",
            " '2012-12-26' '2011-05-04' '2011-05-02' '2011-09-30' '2011-07-29'\n",
            " '2011-12-24' '2012-01-20' '2011-09-11' '2012-07-19' '2011-03-24'\n",
            " '2012-04-08' '2011-12-01' '2011-07-24' '2011-12-18' '2011-04-25'\n",
            " '2012-02-20' '2012-01-30' '2011-05-11' '2012-10-30' '2011-08-29'\n",
            " '2011-05-28' '2011-05-13' '2011-09-27' '2011-07-15' '2012-11-15'\n",
            " '2011-06-02' '2011-12-28' '2011-09-21' '2012-01-22' '2012-07-16'\n",
            " '2012-09-06' '2012-10-02' '2011-04-10' '2011-01-19' '2012-12-22'\n",
            " '2012-07-23' '2012-11-05' '2011-03-28' '2011-04-09' '2011-06-17'\n",
            " '2012-06-19' '2012-10-05' '2012-05-19' '2011-10-31' '2011-06-20'\n",
            " '2011-05-12' '2012-05-26' '2011-06-27' '2012-09-27' '2012-05-30'\n",
            " '2011-12-14' '2011-07-14' '2012-06-14' '2012-08-16' '2012-05-29'\n",
            " '2012-07-18' '2012-11-30' '2011-04-28' '2011-07-04' '2012-12-14'\n",
            " '2012-01-13' '2012-07-07' '2012-01-23' '2011-11-03' '2011-10-15'\n",
            " '2011-09-16' '2012-12-06' '2011-01-17' '2012-10-21' '2011-08-25'\n",
            " '2011-06-24' '2012-03-03' '2011-12-04' '2011-09-14' '2012-01-15'\n",
            " '2012-10-04' '2011-04-30' '2012-10-25' '2011-11-04' '2012-07-05'\n",
            " '2011-02-20' '2012-10-18' '2012-09-12' '2011-03-16' '2012-06-15'\n",
            " '2012-03-06' '2011-01-21' '2012-02-29' '2011-10-20' '2012-05-16'\n",
            " '2011-04-29' '2012-10-08' '2011-04-18' '2011-06-04' '2012-03-15'\n",
            " '2012-06-07' '2012-02-19' '2012-07-30' '2011-11-22' '2012-11-08'\n",
            " '2012-09-07' '2012-03-20' '2011-09-05' '2011-10-22' '2011-10-14'\n",
            " '2011-01-07' '2011-10-02' '2011-12-10' '2012-10-10' '2011-05-27'\n",
            " '2011-04-21' '2011-08-04' '2012-08-19' '2011-03-27' '2012-08-08'\n",
            " '2011-02-01' '2012-06-29' '2012-09-25' '2011-09-06' '2012-04-03'\n",
            " '2012-05-07' '2011-04-26' '2012-02-01' '2011-06-22' '2012-03-30'\n",
            " '2012-05-13' '2012-03-23' '2012-01-02' '2011-02-28' '2012-02-28'\n",
            " '2012-05-21' '2012-11-26' '2012-12-02' '2011-07-03' '2012-01-09'\n",
            " '2011-06-14' '2011-11-27' '2012-10-23' '2011-03-03' '2012-12-25'\n",
            " '2012-07-13' '2012-10-19' '2012-05-28' '2012-12-15' '2011-05-16'\n",
            " '2012-09-05' '2011-07-05' '2012-12-31' '2012-04-27' '2012-07-02'\n",
            " '2011-02-03' '2012-04-07' '2011-05-06' '2012-05-06' '2011-04-04'\n",
            " '2012-01-21' '2011-06-23' '2012-02-17' '2011-10-01' '2011-02-04'\n",
            " '2012-08-05' '2011-08-24' '2011-03-15' '2012-09-10' '2012-10-28'\n",
            " '2011-08-12' '2012-03-26' '2012-10-14' '2012-09-17' '2012-03-18'\n",
            " '2012-01-29' '2011-03-25' '2012-03-10' '2012-04-18' '2012-01-04'\n",
            " '2012-07-01' '2011-01-12' '2011-02-06' '2011-01-24' '2012-12-20'\n",
            " '2011-04-23' '2011-02-07' '2011-04-16' '2011-01-20' '2012-03-07'\n",
            " '2011-10-05' '2012-09-21' '2011-12-06' '2012-02-22' '2011-02-21'\n",
            " '2011-09-15' '2012-02-12' '2011-05-17' '2012-09-18' '2012-12-19'\n",
            " '2012-04-21' '2012-06-18' '2012-05-09' '2011-12-07' '2011-07-22'\n",
            " '2012-07-20' '2011-08-11' '2012-09-20' '2011-03-13' '2012-07-03'\n",
            " '2012-02-21' '2012-01-14' '2011-01-05' '2011-09-13' '2012-03-17'\n",
            " '2011-12-23' '2012-11-04' '2011-08-19' '2011-02-15' '2012-09-16'\n",
            " '2011-12-30' '2011-03-05' '2012-12-21' '2012-09-03' '2011-02-14'\n",
            " '2012-02-25' '2012-12-13' '2012-02-06' '2011-10-04' '2011-09-29'\n",
            " '2011-07-01' '2011-07-11' '2012-03-12' '2012-08-25' '2012-12-07'\n",
            " '2012-03-29' '2012-12-11' '2011-03-18' '2012-01-06' '2012-09-01'\n",
            " '2011-10-26' '2012-05-24' '2011-01-06' '2012-09-02' '2012-11-03'\n",
            " '2011-02-27' '2012-12-23' '2012-04-20' '2011-11-28' '2012-02-15'\n",
            " '2011-04-24' '2011-07-12' '2012-12-28' '2012-07-12' '2011-09-07'\n",
            " '2011-03-20' '2011-06-18' '2011-02-16' '2012-12-03' '2011-04-06'\n",
            " '2011-10-08' '2011-04-03' '2011-12-17' '2012-02-26' '2012-03-16'\n",
            " '2012-08-22' '2012-08-10' '2012-04-17' '2011-09-19' '2011-01-27'\n",
            " '2011-08-15' '2011-12-22' '2011-12-20' '2012-03-19' '2011-11-11'\n",
            " '2012-08-27' '2011-05-15' '2011-05-20' '2012-06-23' '2011-07-27'\n",
            " '2012-10-29' '2012-04-13' '2011-07-31' '2011-02-08' '2012-02-05'\n",
            " '2012-10-17' '2012-02-02' '2011-03-30' '2011-03-17' '2011-09-23'\n",
            " '2011-10-11' '2011-11-26' '2011-06-16' '2011-09-22' '2012-01-16'\n",
            " '2012-07-27' '2012-06-11' '2011-05-23' '2012-08-14' '2011-08-13'\n",
            " '2012-10-13' '2012-07-25' '2012-03-24' '2011-10-28' '2012-08-04'\n",
            " '2011-05-03' '2011-10-06' '2011-01-31' '2011-09-25' '2012-11-14'\n",
            " '2012-02-03' '2012-03-14' '2012-03-25' '2012-08-29' '2012-07-29'\n",
            " '2012-04-25' '2011-05-14' '2012-06-21' '2011-08-28' '2012-09-15'\n",
            " '2011-11-15' '2012-12-09' '2012-01-07' '2012-11-07' '2011-10-17'\n",
            " '2012-08-06' '2011-02-22' '2012-03-13' '2012-12-05' '2012-11-11'\n",
            " '2011-10-29' '2012-06-05' '2011-09-03' '2011-04-08' '2011-01-18'\n",
            " '2012-07-11']\n",
            "\n"
          ]
        }
      ],
      "source": [
        "for i in cat_feature:\n",
        "    print(f'Total uique values in {i}: ', df_model[i].nunique())\n",
        "    print(f'Unique values: ', df_model[i].unique())\n",
        "    print()"
      ]
    },
    {
      "cell_type": "code",
      "execution_count": 12,
      "metadata": {
        "colab": {
          "base_uri": "https://localhost:8080/"
        },
        "id": "YtFACi2QVoPY",
        "outputId": "75fc46a5-ec3e-4c54-dc20-f48cdd4a4112"
      },
      "outputs": [
        {
          "data": {
            "text/plain": [
              "['hum',\n",
              " 'weathersit',\n",
              " 'holiday',\n",
              " 'season',\n",
              " 'atemp',\n",
              " 'temp',\n",
              " 'hr',\n",
              " 'casual',\n",
              " 'registered',\n",
              " 'cnt']"
            ]
          },
          "execution_count": 12,
          "metadata": {},
          "output_type": "execute_result"
        }
      ],
      "source": [
        "num_feature = [feature for feature in df_model.columns if (df_model[feature].dtype != 'O')]\n",
        "num_feature"
      ]
    },
    {
      "cell_type": "code",
      "execution_count": 13,
      "metadata": {
        "colab": {
          "base_uri": "https://localhost:8080/",
          "height": 956
        },
        "id": "1aZd-pfaVoPY",
        "outputId": "4cf30a51-7fb1-4715-98eb-56e9345b22a4"
      },
      "outputs": [
        {
          "data": {
            "image/png": "[encoded data removed]",
            "text/plain": [
              "<Figure size 1500x1000 with 10 Axes>"
            ]
          },
          "metadata": {},
          "output_type": "display_data"
        }
      ],
      "source": [
        "import matplotlib.pyplot as plt\n",
        "import seaborn as sns\n",
        "plt.figure(figsize=(15, 10), facecolor='white')\n",
        "plotnumber = 1\n",
        "\n",
        "for feature in num_feature:\n",
        "    ax = plt.subplot(5, 2, plotnumber)\n",
        "    sns.boxplot(data = df_model, x = feature)\n",
        "    plt.title(feature)\n",
        "    plotnumber += 1\n",
        "    plt.tight_layout();"
      ]
    },
    {
      "cell_type": "markdown",
      "metadata": {
        "id": "eEFVaPLiVoPY"
      },
      "source": [
        "From the distribution above we can see that hum, casual, registered, and cnt have outliers data.\n",
        "\n",
        "- hum as humidity technically can't have 0% value therefore we going to drop them\n",
        "- casual, registred, and cnt although have outliers it's still make sense that in a day have more customer than the other day."
      ]
    },
    {
      "cell_type": "markdown",
      "metadata": {
        "id": "_pLMt-meVoPY"
      },
      "source": [
        "## Find and remove odd value"
      ]
    },
    {
      "cell_type": "markdown",
      "metadata": {
        "id": "2b6U2C96VoPY"
      },
      "source": [
        "Based on the minimum value of humidity, it is technically imposible that a humidity reach 0%, therefore drop the row that have 0% humidity."
      ]
    },
    {
      "cell_type": "code",
      "execution_count": 14,
      "metadata": {
        "colab": {
          "base_uri": "https://localhost:8080/"
        },
        "id": "En86PXasVoPY",
        "outputId": "e232c596-5ffe-49be-bc09-b1f547720f26"
      },
      "outputs": [
        {
          "data": {
            "text/plain": [
              "dteday        14\n",
              "hum           14\n",
              "weathersit    14\n",
              "holiday       14\n",
              "season        14\n",
              "atemp         14\n",
              "temp          14\n",
              "hr            14\n",
              "casual        14\n",
              "registered    14\n",
              "cnt           14\n",
              "dtype: int64"
            ]
          },
          "execution_count": 14,
          "metadata": {},
          "output_type": "execute_result"
        }
      ],
      "source": [
        "df_model[df_model['hum'] ==0].count()"
      ]
    },
    {
      "cell_type": "markdown",
      "metadata": {
        "id": "l2HcQPRJVoPZ"
      },
      "source": [
        "Drop 14 data that have 0% value in humidity"
      ]
    },
    {
      "cell_type": "code",
      "execution_count": 15,
      "metadata": {
        "id": "-Osgda3kVoPZ"
      },
      "outputs": [],
      "source": [
        "df_model = df_model[df_model['hum'] > 0]"
      ]
    },
    {
      "cell_type": "markdown",
      "metadata": {
        "id": "4VfKU3gTVoPZ"
      },
      "source": [
        "## Insert necessary data"
      ]
    },
    {
      "cell_type": "markdown",
      "metadata": {
        "id": "joWIF-5nVoPZ"
      },
      "source": [
        "Change the dteday data type from object to datetime so that we can insert helping columns such as month, dayofweek and year."
      ]
    },
    {
      "cell_type": "code",
      "execution_count": 16,
      "metadata": {
        "id": "9m7qLGw6VoPZ"
      },
      "outputs": [],
      "source": [
        "df_model['dteday'] = pd.to_datetime(df_model['dteday'])"
      ]
    },
    {
      "cell_type": "code",
      "execution_count": 17,
      "metadata": {
        "colab": {
          "base_uri": "https://localhost:8080/"
        },
        "id": "GXKUwChVVoPZ",
        "outputId": "79737731-83dd-4acb-9717-f6188c4dd21c"
      },
      "outputs": [
        {
          "name": "stdout",
          "output_type": "stream",
          "text": [
            "<class 'pandas.core.frame.DataFrame'>\n",
            "Index: 12151 entries, 0 to 12164\n",
            "Data columns (total 11 columns):\n",
            " #   Column      Non-Null Count  Dtype         \n",
            "---  ------      --------------  -----         \n",
            " 0   dteday      12151 non-null  datetime64[ns]\n",
            " 1   hum         12151 non-null  float64       \n",
            " 2   weathersit  12151 non-null  int64         \n",
            " 3   holiday     12151 non-null  int64         \n",
            " 4   season      12151 non-null  int64         \n",
            " 5   atemp       12151 non-null  float64       \n",
            " 6   temp        12151 non-null  float64       \n",
            " 7   hr          12151 non-null  int64         \n",
            " 8   casual      12151 non-null  int64         \n",
            " 9   registered  12151 non-null  int64         \n",
            " 10  cnt         12151 non-null  int64         \n",
            "dtypes: datetime64[ns](1), float64(3), int64(7)\n",
            "memory usage: 1.1 MB\n"
          ]
        }
      ],
      "source": [
        "df_model.info()"
      ]
    },
    {
      "cell_type": "markdown",
      "metadata": {
        "id": "NclOmCqZVoPZ"
      },
      "source": [
        "Insert month column"
      ]
    },
    {
      "cell_type": "code",
      "execution_count": 18,
      "metadata": {
        "colab": {
          "base_uri": "https://localhost:8080/",
          "height": 206
        },
        "id": "qhy-weLIVoPa",
        "outputId": "0cb09feb-a659-471d-f3cb-2d641fbb0b93"
      },
      "outputs": [
        {
          "data": {
            "text/html": [
              "<div>\n",
              "<style scoped>\n",
              "    .dataframe tbody tr th:only-of-type {\n",
              "        vertical-align: middle;\n",
              "    }\n",
              "\n",
              "    .dataframe tbody tr th {\n",
              "        vertical-align: top;\n",
              "    }\n",
              "\n",
              "    .dataframe thead th {\n",
              "        text-align: right;\n",
              "    }\n",
              "</style>\n",
              "<table border=\"1\" class=\"dataframe\">\n",
              "  <thead>\n",
              "    <tr style=\"text-align: right;\">\n",
              "      <th></th>\n",
              "      <th>dteday</th>\n",
              "      <th>month</th>\n",
              "      <th>hum</th>\n",
              "      <th>weathersit</th>\n",
              "      <th>holiday</th>\n",
              "      <th>season</th>\n",
              "      <th>atemp</th>\n",
              "      <th>temp</th>\n",
              "      <th>hr</th>\n",
              "      <th>casual</th>\n",
              "      <th>registered</th>\n",
              "      <th>cnt</th>\n",
              "    </tr>\n",
              "  </thead>\n",
              "  <tbody>\n",
              "    <tr>\n",
              "      <th>0</th>\n",
              "      <td>2011-12-09</td>\n",
              "      <td>12</td>\n",
              "      <td>0.62</td>\n",
              "      <td>1</td>\n",
              "      <td>0</td>\n",
              "      <td>4</td>\n",
              "      <td>0.3485</td>\n",
              "      <td>0.36</td>\n",
              "      <td>16</td>\n",
              "      <td>24</td>\n",
              "      <td>226</td>\n",
              "      <td>250</td>\n",
              "    </tr>\n",
              "    <tr>\n",
              "      <th>1</th>\n",
              "      <td>2012-06-17</td>\n",
              "      <td>6</td>\n",
              "      <td>0.64</td>\n",
              "      <td>1</td>\n",
              "      <td>0</td>\n",
              "      <td>2</td>\n",
              "      <td>0.5152</td>\n",
              "      <td>0.54</td>\n",
              "      <td>4</td>\n",
              "      <td>2</td>\n",
              "      <td>16</td>\n",
              "      <td>18</td>\n",
              "    </tr>\n",
              "    <tr>\n",
              "      <th>2</th>\n",
              "      <td>2011-06-15</td>\n",
              "      <td>6</td>\n",
              "      <td>0.53</td>\n",
              "      <td>1</td>\n",
              "      <td>0</td>\n",
              "      <td>2</td>\n",
              "      <td>0.6212</td>\n",
              "      <td>0.62</td>\n",
              "      <td>23</td>\n",
              "      <td>17</td>\n",
              "      <td>90</td>\n",
              "      <td>107</td>\n",
              "    </tr>\n",
              "    <tr>\n",
              "      <th>3</th>\n",
              "      <td>2012-03-31</td>\n",
              "      <td>3</td>\n",
              "      <td>0.87</td>\n",
              "      <td>2</td>\n",
              "      <td>0</td>\n",
              "      <td>2</td>\n",
              "      <td>0.3485</td>\n",
              "      <td>0.36</td>\n",
              "      <td>8</td>\n",
              "      <td>19</td>\n",
              "      <td>126</td>\n",
              "      <td>145</td>\n",
              "    </tr>\n",
              "    <tr>\n",
              "      <th>4</th>\n",
              "      <td>2012-07-31</td>\n",
              "      <td>7</td>\n",
              "      <td>0.55</td>\n",
              "      <td>1</td>\n",
              "      <td>0</td>\n",
              "      <td>3</td>\n",
              "      <td>0.6970</td>\n",
              "      <td>0.76</td>\n",
              "      <td>18</td>\n",
              "      <td>99</td>\n",
              "      <td>758</td>\n",
              "      <td>857</td>\n",
              "    </tr>\n",
              "  </tbody>\n",
              "</table>\n",
              "</div>"
            ],
            "text/plain": [
              "      dteday  month   hum  weathersit  holiday  season   atemp  temp  hr  \\\n",
              "0 2011-12-09     12  0.62           1        0       4  0.3485  0.36  16   \n",
              "1 2012-06-17      6  0.64           1        0       2  0.5152  0.54   4   \n",
              "2 2011-06-15      6  0.53           1        0       2  0.6212  0.62  23   \n",
              "3 2012-03-31      3  0.87           2        0       2  0.3485  0.36   8   \n",
              "4 2012-07-31      7  0.55           1        0       3  0.6970  0.76  18   \n",
              "\n",
              "   casual  registered  cnt  \n",
              "0      24         226  250  \n",
              "1       2          16   18  \n",
              "2      17          90  107  \n",
              "3      19         126  145  \n",
              "4      99         758  857  "
            ]
          },
          "execution_count": 18,
          "metadata": {},
          "output_type": "execute_result"
        }
      ],
      "source": [
        "df_model.insert(1,'month', df_model['dteday'].dt.month)\n",
        "df_model.head()"
      ]
    },
    {
      "cell_type": "markdown",
      "metadata": {},
      "source": [
        "Insert dayofweek"
      ]
    },
    {
      "cell_type": "code",
      "execution_count": 19,
      "metadata": {
        "colab": {
          "base_uri": "https://localhost:8080/",
          "height": 206
        },
        "id": "7YlQzAWxVoPf",
        "outputId": "a43f6fc5-d3c9-4245-f513-3eb954e73f95"
      },
      "outputs": [
        {
          "data": {
            "text/html": [
              "<div>\n",
              "<style scoped>\n",
              "    .dataframe tbody tr th:only-of-type {\n",
              "        vertical-align: middle;\n",
              "    }\n",
              "\n",
              "    .dataframe tbody tr th {\n",
              "        vertical-align: top;\n",
              "    }\n",
              "\n",
              "    .dataframe thead th {\n",
              "        text-align: right;\n",
              "    }\n",
              "</style>\n",
              "<table border=\"1\" class=\"dataframe\">\n",
              "  <thead>\n",
              "    <tr style=\"text-align: right;\">\n",
              "      <th></th>\n",
              "      <th>dteday</th>\n",
              "      <th>month</th>\n",
              "      <th>dayofweek</th>\n",
              "      <th>hum</th>\n",
              "      <th>weathersit</th>\n",
              "      <th>holiday</th>\n",
              "      <th>season</th>\n",
              "      <th>atemp</th>\n",
              "      <th>temp</th>\n",
              "      <th>hr</th>\n",
              "      <th>casual</th>\n",
              "      <th>registered</th>\n",
              "      <th>cnt</th>\n",
              "    </tr>\n",
              "  </thead>\n",
              "  <tbody>\n",
              "    <tr>\n",
              "      <th>0</th>\n",
              "      <td>2011-12-09</td>\n",
              "      <td>12</td>\n",
              "      <td>4</td>\n",
              "      <td>0.62</td>\n",
              "      <td>1</td>\n",
              "      <td>0</td>\n",
              "      <td>4</td>\n",
              "      <td>0.3485</td>\n",
              "      <td>0.36</td>\n",
              "      <td>16</td>\n",
              "      <td>24</td>\n",
              "      <td>226</td>\n",
              "      <td>250</td>\n",
              "    </tr>\n",
              "    <tr>\n",
              "      <th>1</th>\n",
              "      <td>2012-06-17</td>\n",
              "      <td>6</td>\n",
              "      <td>6</td>\n",
              "      <td>0.64</td>\n",
              "      <td>1</td>\n",
              "      <td>0</td>\n",
              "      <td>2</td>\n",
              "      <td>0.5152</td>\n",
              "      <td>0.54</td>\n",
              "      <td>4</td>\n",
              "      <td>2</td>\n",
              "      <td>16</td>\n",
              "      <td>18</td>\n",
              "    </tr>\n",
              "    <tr>\n",
              "      <th>2</th>\n",
              "      <td>2011-06-15</td>\n",
              "      <td>6</td>\n",
              "      <td>2</td>\n",
              "      <td>0.53</td>\n",
              "      <td>1</td>\n",
              "      <td>0</td>\n",
              "      <td>2</td>\n",
              "      <td>0.6212</td>\n",
              "      <td>0.62</td>\n",
              "      <td>23</td>\n",
              "      <td>17</td>\n",
              "      <td>90</td>\n",
              "      <td>107</td>\n",
              "    </tr>\n",
              "    <tr>\n",
              "      <th>3</th>\n",
              "      <td>2012-03-31</td>\n",
              "      <td>3</td>\n",
              "      <td>5</td>\n",
              "      <td>0.87</td>\n",
              "      <td>2</td>\n",
              "      <td>0</td>\n",
              "      <td>2</td>\n",
              "      <td>0.3485</td>\n",
              "      <td>0.36</td>\n",
              "      <td>8</td>\n",
              "      <td>19</td>\n",
              "      <td>126</td>\n",
              "      <td>145</td>\n",
              "    </tr>\n",
              "    <tr>\n",
              "      <th>4</th>\n",
              "      <td>2012-07-31</td>\n",
              "      <td>7</td>\n",
              "      <td>1</td>\n",
              "      <td>0.55</td>\n",
              "      <td>1</td>\n",
              "      <td>0</td>\n",
              "      <td>3</td>\n",
              "      <td>0.6970</td>\n",
              "      <td>0.76</td>\n",
              "      <td>18</td>\n",
              "      <td>99</td>\n",
              "      <td>758</td>\n",
              "      <td>857</td>\n",
              "    </tr>\n",
              "  </tbody>\n",
              "</table>\n",
              "</div>"
            ],
            "text/plain": [
              "      dteday  month  dayofweek   hum  weathersit  holiday  season   atemp  \\\n",
              "0 2011-12-09     12          4  0.62           1        0       4  0.3485   \n",
              "1 2012-06-17      6          6  0.64           1        0       2  0.5152   \n",
              "2 2011-06-15      6          2  0.53           1        0       2  0.6212   \n",
              "3 2012-03-31      3          5  0.87           2        0       2  0.3485   \n",
              "4 2012-07-31      7          1  0.55           1        0       3  0.6970   \n",
              "\n",
              "   temp  hr  casual  registered  cnt  \n",
              "0  0.36  16      24         226  250  \n",
              "1  0.54   4       2          16   18  \n",
              "2  0.62  23      17          90  107  \n",
              "3  0.36   8      19         126  145  \n",
              "4  0.76  18      99         758  857  "
            ]
          },
          "execution_count": 19,
          "metadata": {},
          "output_type": "execute_result"
        }
      ],
      "source": [
        "df_model.insert(2,'dayofweek', df_model['dteday'].dt.day_of_week)\n",
        "df_model.head()"
      ]
    },
    {
      "cell_type": "markdown",
      "metadata": {},
      "source": [
        "Insert year"
      ]
    },
    {
      "cell_type": "code",
      "execution_count": 20,
      "metadata": {
        "colab": {
          "base_uri": "https://localhost:8080/",
          "height": 206
        },
        "id": "pUN_SAESWQVO",
        "outputId": "3e0d38ff-206b-44ec-9792-73c4d8f93513"
      },
      "outputs": [
        {
          "data": {
            "text/html": [
              "<div>\n",
              "<style scoped>\n",
              "    .dataframe tbody tr th:only-of-type {\n",
              "        vertical-align: middle;\n",
              "    }\n",
              "\n",
              "    .dataframe tbody tr th {\n",
              "        vertical-align: top;\n",
              "    }\n",
              "\n",
              "    .dataframe thead th {\n",
              "        text-align: right;\n",
              "    }\n",
              "</style>\n",
              "<table border=\"1\" class=\"dataframe\">\n",
              "  <thead>\n",
              "    <tr style=\"text-align: right;\">\n",
              "      <th></th>\n",
              "      <th>dteday</th>\n",
              "      <th>month</th>\n",
              "      <th>dayofweek</th>\n",
              "      <th>year</th>\n",
              "      <th>hum</th>\n",
              "      <th>weathersit</th>\n",
              "      <th>holiday</th>\n",
              "      <th>season</th>\n",
              "      <th>atemp</th>\n",
              "      <th>temp</th>\n",
              "      <th>hr</th>\n",
              "      <th>casual</th>\n",
              "      <th>registered</th>\n",
              "      <th>cnt</th>\n",
              "    </tr>\n",
              "  </thead>\n",
              "  <tbody>\n",
              "    <tr>\n",
              "      <th>0</th>\n",
              "      <td>2011-12-09</td>\n",
              "      <td>12</td>\n",
              "      <td>4</td>\n",
              "      <td>2011</td>\n",
              "      <td>0.62</td>\n",
              "      <td>1</td>\n",
              "      <td>0</td>\n",
              "      <td>4</td>\n",
              "      <td>0.3485</td>\n",
              "      <td>0.36</td>\n",
              "      <td>16</td>\n",
              "      <td>24</td>\n",
              "      <td>226</td>\n",
              "      <td>250</td>\n",
              "    </tr>\n",
              "    <tr>\n",
              "      <th>1</th>\n",
              "      <td>2012-06-17</td>\n",
              "      <td>6</td>\n",
              "      <td>6</td>\n",
              "      <td>2012</td>\n",
              "      <td>0.64</td>\n",
              "      <td>1</td>\n",
              "      <td>0</td>\n",
              "      <td>2</td>\n",
              "      <td>0.5152</td>\n",
              "      <td>0.54</td>\n",
              "      <td>4</td>\n",
              "      <td>2</td>\n",
              "      <td>16</td>\n",
              "      <td>18</td>\n",
              "    </tr>\n",
              "    <tr>\n",
              "      <th>2</th>\n",
              "      <td>2011-06-15</td>\n",
              "      <td>6</td>\n",
              "      <td>2</td>\n",
              "      <td>2011</td>\n",
              "      <td>0.53</td>\n",
              "      <td>1</td>\n",
              "      <td>0</td>\n",
              "      <td>2</td>\n",
              "      <td>0.6212</td>\n",
              "      <td>0.62</td>\n",
              "      <td>23</td>\n",
              "      <td>17</td>\n",
              "      <td>90</td>\n",
              "      <td>107</td>\n",
              "    </tr>\n",
              "    <tr>\n",
              "      <th>3</th>\n",
              "      <td>2012-03-31</td>\n",
              "      <td>3</td>\n",
              "      <td>5</td>\n",
              "      <td>2012</td>\n",
              "      <td>0.87</td>\n",
              "      <td>2</td>\n",
              "      <td>0</td>\n",
              "      <td>2</td>\n",
              "      <td>0.3485</td>\n",
              "      <td>0.36</td>\n",
              "      <td>8</td>\n",
              "      <td>19</td>\n",
              "      <td>126</td>\n",
              "      <td>145</td>\n",
              "    </tr>\n",
              "    <tr>\n",
              "      <th>4</th>\n",
              "      <td>2012-07-31</td>\n",
              "      <td>7</td>\n",
              "      <td>1</td>\n",
              "      <td>2012</td>\n",
              "      <td>0.55</td>\n",
              "      <td>1</td>\n",
              "      <td>0</td>\n",
              "      <td>3</td>\n",
              "      <td>0.6970</td>\n",
              "      <td>0.76</td>\n",
              "      <td>18</td>\n",
              "      <td>99</td>\n",
              "      <td>758</td>\n",
              "      <td>857</td>\n",
              "    </tr>\n",
              "  </tbody>\n",
              "</table>\n",
              "</div>"
            ],
            "text/plain": [
              "      dteday  month  dayofweek  year   hum  weathersit  holiday  season  \\\n",
              "0 2011-12-09     12          4  2011  0.62           1        0       4   \n",
              "1 2012-06-17      6          6  2012  0.64           1        0       2   \n",
              "2 2011-06-15      6          2  2011  0.53           1        0       2   \n",
              "3 2012-03-31      3          5  2012  0.87           2        0       2   \n",
              "4 2012-07-31      7          1  2012  0.55           1        0       3   \n",
              "\n",
              "    atemp  temp  hr  casual  registered  cnt  \n",
              "0  0.3485  0.36  16      24         226  250  \n",
              "1  0.5152  0.54   4       2          16   18  \n",
              "2  0.6212  0.62  23      17          90  107  \n",
              "3  0.3485  0.36   8      19         126  145  \n",
              "4  0.6970  0.76  18      99         758  857  "
            ]
          },
          "execution_count": 20,
          "metadata": {},
          "output_type": "execute_result"
        }
      ],
      "source": [
        "df_model.insert(3,'year', df_model['dteday'].dt.year)\n",
        "df_model.head()"
      ]
    },
    {
      "cell_type": "markdown",
      "metadata": {
        "id": "F0VOlj5KVoPf"
      },
      "source": [
        "## Drop Unecessary Features"
      ]
    },
    {
      "cell_type": "markdown",
      "metadata": {
        "id": "YUBxVpDDVoPg"
      },
      "source": [
        "date doesn't have any relevance or correlation for predictive data analysis"
      ]
    },
    {
      "cell_type": "code",
      "execution_count": 21,
      "metadata": {
        "colab": {
          "base_uri": "https://localhost:8080/",
          "height": 206
        },
        "id": "8o9_tdS0VoPg",
        "outputId": "53c2a674-fa30-457f-9e3a-8a892b541ff8"
      },
      "outputs": [
        {
          "data": {
            "text/html": [
              "<div>\n",
              "<style scoped>\n",
              "    .dataframe tbody tr th:only-of-type {\n",
              "        vertical-align: middle;\n",
              "    }\n",
              "\n",
              "    .dataframe tbody tr th {\n",
              "        vertical-align: top;\n",
              "    }\n",
              "\n",
              "    .dataframe thead th {\n",
              "        text-align: right;\n",
              "    }\n",
              "</style>\n",
              "<table border=\"1\" class=\"dataframe\">\n",
              "  <thead>\n",
              "    <tr style=\"text-align: right;\">\n",
              "      <th></th>\n",
              "      <th>month</th>\n",
              "      <th>dayofweek</th>\n",
              "      <th>year</th>\n",
              "      <th>hum</th>\n",
              "      <th>weathersit</th>\n",
              "      <th>holiday</th>\n",
              "      <th>season</th>\n",
              "      <th>atemp</th>\n",
              "      <th>temp</th>\n",
              "      <th>hr</th>\n",
              "      <th>casual</th>\n",
              "      <th>registered</th>\n",
              "      <th>cnt</th>\n",
              "    </tr>\n",
              "  </thead>\n",
              "  <tbody>\n",
              "    <tr>\n",
              "      <th>0</th>\n",
              "      <td>12</td>\n",
              "      <td>4</td>\n",
              "      <td>2011</td>\n",
              "      <td>0.62</td>\n",
              "      <td>1</td>\n",
              "      <td>0</td>\n",
              "      <td>4</td>\n",
              "      <td>0.3485</td>\n",
              "      <td>0.36</td>\n",
              "      <td>16</td>\n",
              "      <td>24</td>\n",
              "      <td>226</td>\n",
              "      <td>250</td>\n",
              "    </tr>\n",
              "    <tr>\n",
              "      <th>1</th>\n",
              "      <td>6</td>\n",
              "      <td>6</td>\n",
              "      <td>2012</td>\n",
              "      <td>0.64</td>\n",
              "      <td>1</td>\n",
              "      <td>0</td>\n",
              "      <td>2</td>\n",
              "      <td>0.5152</td>\n",
              "      <td>0.54</td>\n",
              "      <td>4</td>\n",
              "      <td>2</td>\n",
              "      <td>16</td>\n",
              "      <td>18</td>\n",
              "    </tr>\n",
              "    <tr>\n",
              "      <th>2</th>\n",
              "      <td>6</td>\n",
              "      <td>2</td>\n",
              "      <td>2011</td>\n",
              "      <td>0.53</td>\n",
              "      <td>1</td>\n",
              "      <td>0</td>\n",
              "      <td>2</td>\n",
              "      <td>0.6212</td>\n",
              "      <td>0.62</td>\n",
              "      <td>23</td>\n",
              "      <td>17</td>\n",
              "      <td>90</td>\n",
              "      <td>107</td>\n",
              "    </tr>\n",
              "    <tr>\n",
              "      <th>3</th>\n",
              "      <td>3</td>\n",
              "      <td>5</td>\n",
              "      <td>2012</td>\n",
              "      <td>0.87</td>\n",
              "      <td>2</td>\n",
              "      <td>0</td>\n",
              "      <td>2</td>\n",
              "      <td>0.3485</td>\n",
              "      <td>0.36</td>\n",
              "      <td>8</td>\n",
              "      <td>19</td>\n",
              "      <td>126</td>\n",
              "      <td>145</td>\n",
              "    </tr>\n",
              "    <tr>\n",
              "      <th>4</th>\n",
              "      <td>7</td>\n",
              "      <td>1</td>\n",
              "      <td>2012</td>\n",
              "      <td>0.55</td>\n",
              "      <td>1</td>\n",
              "      <td>0</td>\n",
              "      <td>3</td>\n",
              "      <td>0.6970</td>\n",
              "      <td>0.76</td>\n",
              "      <td>18</td>\n",
              "      <td>99</td>\n",
              "      <td>758</td>\n",
              "      <td>857</td>\n",
              "    </tr>\n",
              "  </tbody>\n",
              "</table>\n",
              "</div>"
            ],
            "text/plain": [
              "   month  dayofweek  year   hum  weathersit  holiday  season   atemp  temp  \\\n",
              "0     12          4  2011  0.62           1        0       4  0.3485  0.36   \n",
              "1      6          6  2012  0.64           1        0       2  0.5152  0.54   \n",
              "2      6          2  2011  0.53           1        0       2  0.6212  0.62   \n",
              "3      3          5  2012  0.87           2        0       2  0.3485  0.36   \n",
              "4      7          1  2012  0.55           1        0       3  0.6970  0.76   \n",
              "\n",
              "   hr  casual  registered  cnt  \n",
              "0  16      24         226  250  \n",
              "1   4       2          16   18  \n",
              "2  23      17          90  107  \n",
              "3   8      19         126  145  \n",
              "4  18      99         758  857  "
            ]
          },
          "execution_count": 21,
          "metadata": {},
          "output_type": "execute_result"
        }
      ],
      "source": [
        "df_model.drop(columns='dteday', inplace = True)\n",
        "df_model.head()"
      ]
    },
    {
      "cell_type": "code",
      "execution_count": 22,
      "metadata": {
        "colab": {
          "base_uri": "https://localhost:8080/",
          "height": 836
        },
        "id": "Ja8yD8xVVoPg",
        "outputId": "3de9559b-1dc0-41de-bf06-a6fb088c7ef5"
      },
      "outputs": [
        {
          "data": {
            "image/png": "[encoded data removed]",
            "text/plain": [
              "<Figure size 1600x1000 with 2 Axes>"
            ]
          },
          "metadata": {},
          "output_type": "display_data"
        }
      ],
      "source": [
        "# from above graphs we can say that temp and atemp have a relationship\n",
        "#let check the correlation\n",
        "plt.figure(figsize = (16, 10))\n",
        "sns.heatmap(df_model.corr(), annot = True, cmap=\"YlGnBu\")\n",
        "plt.title('Correlation Matrix')\n",
        "plt.show()"
      ]
    },
    {
      "cell_type": "markdown",
      "metadata": {},
      "source": [
        "Value above 0.75 is have high correlatation and need to be drop to avoid multicorrelation"
      ]
    },
    {
      "cell_type": "markdown",
      "metadata": {
        "id": "JEnkrcIyVoPg"
      },
      "source": [
        "High correlation between atemp and temp : Drop atemp"
      ]
    },
    {
      "cell_type": "code",
      "execution_count": 23,
      "metadata": {
        "colab": {
          "base_uri": "https://localhost:8080/",
          "height": 206
        },
        "id": "JSUCoh3fVoPg",
        "outputId": "e2bf4807-1b4d-4e0b-bec7-184fa97d3259"
      },
      "outputs": [
        {
          "data": {
            "text/html": [
              "<div>\n",
              "<style scoped>\n",
              "    .dataframe tbody tr th:only-of-type {\n",
              "        vertical-align: middle;\n",
              "    }\n",
              "\n",
              "    .dataframe tbody tr th {\n",
              "        vertical-align: top;\n",
              "    }\n",
              "\n",
              "    .dataframe thead th {\n",
              "        text-align: right;\n",
              "    }\n",
              "</style>\n",
              "<table border=\"1\" class=\"dataframe\">\n",
              "  <thead>\n",
              "    <tr style=\"text-align: right;\">\n",
              "      <th></th>\n",
              "      <th>month</th>\n",
              "      <th>dayofweek</th>\n",
              "      <th>year</th>\n",
              "      <th>hum</th>\n",
              "      <th>weathersit</th>\n",
              "      <th>holiday</th>\n",
              "      <th>season</th>\n",
              "      <th>temp</th>\n",
              "      <th>hr</th>\n",
              "      <th>casual</th>\n",
              "      <th>registered</th>\n",
              "      <th>cnt</th>\n",
              "    </tr>\n",
              "  </thead>\n",
              "  <tbody>\n",
              "    <tr>\n",
              "      <th>0</th>\n",
              "      <td>12</td>\n",
              "      <td>4</td>\n",
              "      <td>2011</td>\n",
              "      <td>0.62</td>\n",
              "      <td>1</td>\n",
              "      <td>0</td>\n",
              "      <td>4</td>\n",
              "      <td>0.36</td>\n",
              "      <td>16</td>\n",
              "      <td>24</td>\n",
              "      <td>226</td>\n",
              "      <td>250</td>\n",
              "    </tr>\n",
              "    <tr>\n",
              "      <th>1</th>\n",
              "      <td>6</td>\n",
              "      <td>6</td>\n",
              "      <td>2012</td>\n",
              "      <td>0.64</td>\n",
              "      <td>1</td>\n",
              "      <td>0</td>\n",
              "      <td>2</td>\n",
              "      <td>0.54</td>\n",
              "      <td>4</td>\n",
              "      <td>2</td>\n",
              "      <td>16</td>\n",
              "      <td>18</td>\n",
              "    </tr>\n",
              "    <tr>\n",
              "      <th>2</th>\n",
              "      <td>6</td>\n",
              "      <td>2</td>\n",
              "      <td>2011</td>\n",
              "      <td>0.53</td>\n",
              "      <td>1</td>\n",
              "      <td>0</td>\n",
              "      <td>2</td>\n",
              "      <td>0.62</td>\n",
              "      <td>23</td>\n",
              "      <td>17</td>\n",
              "      <td>90</td>\n",
              "      <td>107</td>\n",
              "    </tr>\n",
              "    <tr>\n",
              "      <th>3</th>\n",
              "      <td>3</td>\n",
              "      <td>5</td>\n",
              "      <td>2012</td>\n",
              "      <td>0.87</td>\n",
              "      <td>2</td>\n",
              "      <td>0</td>\n",
              "      <td>2</td>\n",
              "      <td>0.36</td>\n",
              "      <td>8</td>\n",
              "      <td>19</td>\n",
              "      <td>126</td>\n",
              "      <td>145</td>\n",
              "    </tr>\n",
              "    <tr>\n",
              "      <th>4</th>\n",
              "      <td>7</td>\n",
              "      <td>1</td>\n",
              "      <td>2012</td>\n",
              "      <td>0.55</td>\n",
              "      <td>1</td>\n",
              "      <td>0</td>\n",
              "      <td>3</td>\n",
              "      <td>0.76</td>\n",
              "      <td>18</td>\n",
              "      <td>99</td>\n",
              "      <td>758</td>\n",
              "      <td>857</td>\n",
              "    </tr>\n",
              "  </tbody>\n",
              "</table>\n",
              "</div>"
            ],
            "text/plain": [
              "   month  dayofweek  year   hum  weathersit  holiday  season  temp  hr  \\\n",
              "0     12          4  2011  0.62           1        0       4  0.36  16   \n",
              "1      6          6  2012  0.64           1        0       2  0.54   4   \n",
              "2      6          2  2011  0.53           1        0       2  0.62  23   \n",
              "3      3          5  2012  0.87           2        0       2  0.36   8   \n",
              "4      7          1  2012  0.55           1        0       3  0.76  18   \n",
              "\n",
              "   casual  registered  cnt  \n",
              "0      24         226  250  \n",
              "1       2          16   18  \n",
              "2      17          90  107  \n",
              "3      19         126  145  \n",
              "4      99         758  857  "
            ]
          },
          "execution_count": 23,
          "metadata": {},
          "output_type": "execute_result"
        }
      ],
      "source": [
        "df_model.drop(columns='atemp', inplace = True)\n",
        "df_model.head()"
      ]
    },
    {
      "cell_type": "markdown",
      "metadata": {
        "id": "8bk4TyW3VoPh"
      },
      "source": [
        "Cnt is the sum of casual + registerd therefore they will have a high correlation : drop casual and registered"
      ]
    },
    {
      "cell_type": "code",
      "execution_count": 24,
      "metadata": {
        "colab": {
          "base_uri": "https://localhost:8080/",
          "height": 206
        },
        "id": "k6TkgVaKVoPh",
        "outputId": "f231cb5a-9b55-4d75-9100-bc872436eaae"
      },
      "outputs": [
        {
          "data": {
            "text/html": [
              "<div>\n",
              "<style scoped>\n",
              "    .dataframe tbody tr th:only-of-type {\n",
              "        vertical-align: middle;\n",
              "    }\n",
              "\n",
              "    .dataframe tbody tr th {\n",
              "        vertical-align: top;\n",
              "    }\n",
              "\n",
              "    .dataframe thead th {\n",
              "        text-align: right;\n",
              "    }\n",
              "</style>\n",
              "<table border=\"1\" class=\"dataframe\">\n",
              "  <thead>\n",
              "    <tr style=\"text-align: right;\">\n",
              "      <th></th>\n",
              "      <th>month</th>\n",
              "      <th>dayofweek</th>\n",
              "      <th>year</th>\n",
              "      <th>hum</th>\n",
              "      <th>weathersit</th>\n",
              "      <th>holiday</th>\n",
              "      <th>season</th>\n",
              "      <th>temp</th>\n",
              "      <th>hr</th>\n",
              "      <th>cnt</th>\n",
              "    </tr>\n",
              "  </thead>\n",
              "  <tbody>\n",
              "    <tr>\n",
              "      <th>0</th>\n",
              "      <td>12</td>\n",
              "      <td>4</td>\n",
              "      <td>2011</td>\n",
              "      <td>0.62</td>\n",
              "      <td>1</td>\n",
              "      <td>0</td>\n",
              "      <td>4</td>\n",
              "      <td>0.36</td>\n",
              "      <td>16</td>\n",
              "      <td>250</td>\n",
              "    </tr>\n",
              "    <tr>\n",
              "      <th>1</th>\n",
              "      <td>6</td>\n",
              "      <td>6</td>\n",
              "      <td>2012</td>\n",
              "      <td>0.64</td>\n",
              "      <td>1</td>\n",
              "      <td>0</td>\n",
              "      <td>2</td>\n",
              "      <td>0.54</td>\n",
              "      <td>4</td>\n",
              "      <td>18</td>\n",
              "    </tr>\n",
              "    <tr>\n",
              "      <th>2</th>\n",
              "      <td>6</td>\n",
              "      <td>2</td>\n",
              "      <td>2011</td>\n",
              "      <td>0.53</td>\n",
              "      <td>1</td>\n",
              "      <td>0</td>\n",
              "      <td>2</td>\n",
              "      <td>0.62</td>\n",
              "      <td>23</td>\n",
              "      <td>107</td>\n",
              "    </tr>\n",
              "    <tr>\n",
              "      <th>3</th>\n",
              "      <td>3</td>\n",
              "      <td>5</td>\n",
              "      <td>2012</td>\n",
              "      <td>0.87</td>\n",
              "      <td>2</td>\n",
              "      <td>0</td>\n",
              "      <td>2</td>\n",
              "      <td>0.36</td>\n",
              "      <td>8</td>\n",
              "      <td>145</td>\n",
              "    </tr>\n",
              "    <tr>\n",
              "      <th>4</th>\n",
              "      <td>7</td>\n",
              "      <td>1</td>\n",
              "      <td>2012</td>\n",
              "      <td>0.55</td>\n",
              "      <td>1</td>\n",
              "      <td>0</td>\n",
              "      <td>3</td>\n",
              "      <td>0.76</td>\n",
              "      <td>18</td>\n",
              "      <td>857</td>\n",
              "    </tr>\n",
              "  </tbody>\n",
              "</table>\n",
              "</div>"
            ],
            "text/plain": [
              "   month  dayofweek  year   hum  weathersit  holiday  season  temp  hr  cnt\n",
              "0     12          4  2011  0.62           1        0       4  0.36  16  250\n",
              "1      6          6  2012  0.64           1        0       2  0.54   4   18\n",
              "2      6          2  2011  0.53           1        0       2  0.62  23  107\n",
              "3      3          5  2012  0.87           2        0       2  0.36   8  145\n",
              "4      7          1  2012  0.55           1        0       3  0.76  18  857"
            ]
          },
          "execution_count": 24,
          "metadata": {},
          "output_type": "execute_result"
        }
      ],
      "source": [
        "df_model.drop(columns=['casual', 'registered'], inplace = True)\n",
        "df_model.head()"
      ]
    },
    {
      "cell_type": "markdown",
      "metadata": {
        "id": "CkKMMGarVoPh"
      },
      "source": [
        "Month and season also have a high correlation due to most of the time season can be define by their months. Lets try to remove season."
      ]
    },
    {
      "cell_type": "code",
      "execution_count": 25,
      "metadata": {
        "colab": {
          "base_uri": "https://localhost:8080/",
          "height": 206
        },
        "id": "bRhjC2c6VoPh",
        "outputId": "3d0d63e0-5baa-440e-f9b7-adc82d8b06ea"
      },
      "outputs": [
        {
          "data": {
            "text/html": [
              "<div>\n",
              "<style scoped>\n",
              "    .dataframe tbody tr th:only-of-type {\n",
              "        vertical-align: middle;\n",
              "    }\n",
              "\n",
              "    .dataframe tbody tr th {\n",
              "        vertical-align: top;\n",
              "    }\n",
              "\n",
              "    .dataframe thead th {\n",
              "        text-align: right;\n",
              "    }\n",
              "</style>\n",
              "<table border=\"1\" class=\"dataframe\">\n",
              "  <thead>\n",
              "    <tr style=\"text-align: right;\">\n",
              "      <th></th>\n",
              "      <th>month</th>\n",
              "      <th>dayofweek</th>\n",
              "      <th>year</th>\n",
              "      <th>hum</th>\n",
              "      <th>weathersit</th>\n",
              "      <th>holiday</th>\n",
              "      <th>temp</th>\n",
              "      <th>hr</th>\n",
              "      <th>cnt</th>\n",
              "    </tr>\n",
              "  </thead>\n",
              "  <tbody>\n",
              "    <tr>\n",
              "      <th>0</th>\n",
              "      <td>12</td>\n",
              "      <td>4</td>\n",
              "      <td>2011</td>\n",
              "      <td>0.62</td>\n",
              "      <td>1</td>\n",
              "      <td>0</td>\n",
              "      <td>0.36</td>\n",
              "      <td>16</td>\n",
              "      <td>250</td>\n",
              "    </tr>\n",
              "    <tr>\n",
              "      <th>1</th>\n",
              "      <td>6</td>\n",
              "      <td>6</td>\n",
              "      <td>2012</td>\n",
              "      <td>0.64</td>\n",
              "      <td>1</td>\n",
              "      <td>0</td>\n",
              "      <td>0.54</td>\n",
              "      <td>4</td>\n",
              "      <td>18</td>\n",
              "    </tr>\n",
              "    <tr>\n",
              "      <th>2</th>\n",
              "      <td>6</td>\n",
              "      <td>2</td>\n",
              "      <td>2011</td>\n",
              "      <td>0.53</td>\n",
              "      <td>1</td>\n",
              "      <td>0</td>\n",
              "      <td>0.62</td>\n",
              "      <td>23</td>\n",
              "      <td>107</td>\n",
              "    </tr>\n",
              "    <tr>\n",
              "      <th>3</th>\n",
              "      <td>3</td>\n",
              "      <td>5</td>\n",
              "      <td>2012</td>\n",
              "      <td>0.87</td>\n",
              "      <td>2</td>\n",
              "      <td>0</td>\n",
              "      <td>0.36</td>\n",
              "      <td>8</td>\n",
              "      <td>145</td>\n",
              "    </tr>\n",
              "    <tr>\n",
              "      <th>4</th>\n",
              "      <td>7</td>\n",
              "      <td>1</td>\n",
              "      <td>2012</td>\n",
              "      <td>0.55</td>\n",
              "      <td>1</td>\n",
              "      <td>0</td>\n",
              "      <td>0.76</td>\n",
              "      <td>18</td>\n",
              "      <td>857</td>\n",
              "    </tr>\n",
              "  </tbody>\n",
              "</table>\n",
              "</div>"
            ],
            "text/plain": [
              "   month  dayofweek  year   hum  weathersit  holiday  temp  hr  cnt\n",
              "0     12          4  2011  0.62           1        0  0.36  16  250\n",
              "1      6          6  2012  0.64           1        0  0.54   4   18\n",
              "2      6          2  2011  0.53           1        0  0.62  23  107\n",
              "3      3          5  2012  0.87           2        0  0.36   8  145\n",
              "4      7          1  2012  0.55           1        0  0.76  18  857"
            ]
          },
          "execution_count": 25,
          "metadata": {},
          "output_type": "execute_result"
        }
      ],
      "source": [
        "df_model.drop(columns=['season'], inplace = True)\n",
        "df_model.head()"
      ]
    },
    {
      "cell_type": "markdown",
      "metadata": {
        "id": "JysmjYBaVoPh"
      },
      "source": [
        "# Modeling"
      ]
    },
    {
      "cell_type": "code",
      "execution_count": 26,
      "metadata": {
        "id": "qHBhnv6CVoPi"
      },
      "outputs": [],
      "source": [
        "\n",
        "# Library\n",
        "import pandas as pd\n",
        "import numpy as np\n",
        "\n",
        "# Visualization\n",
        "import matplotlib.pyplot as plt\n",
        "import seaborn as sns\n",
        "import missingno\n",
        "\n",
        "## sampling\n",
        "from imblearn.over_sampling import RandomOverSampler, SMOTE\n",
        "from imblearn.under_sampling import RandomUnderSampler, NearMiss\n",
        "from sklearn.pipeline import make_pipeline\n",
        "\n",
        "# train test split\n",
        "from sklearn.model_selection import train_test_split\n",
        "\n",
        "# menyatukan beberapa tahap preprocessing atau fungsi lainnya\n",
        "from sklearn.compose import ColumnTransformer\n",
        "from sklearn.pipeline import Pipeline\n",
        "\n",
        "# encoder dan scaler\n",
        "from sklearn.preprocessing import OneHotEncoder\n",
        "from category_encoders import BinaryEncoder, OrdinalEncoder\n",
        "from sklearn.preprocessing import RobustScaler, MinMaxScaler, StandardScaler\n",
        "from sklearn.experimental import enable_iterative_imputer\n",
        "from sklearn.impute import SimpleImputer, IterativeImputer\n",
        "\n",
        "\n",
        "# algoritma ML\n",
        "from sklearn.linear_model import LogisticRegression\n",
        "from sklearn.neighbors import KNeighborsRegressor\n",
        "from sklearn.tree import DecisionTreeRegressor\n",
        "from sklearn.linear_model import LinearRegression\n",
        "from sklearn.ensemble import BaggingRegressor, RandomForestRegressor # bagging\n",
        "from xgboost import XGBRegressor\n",
        "from sklearn.ensemble import GradientBoostingRegressor # boosting\n",
        "from catboost import CatBoostRegressor\n",
        "from sklearn.compose import TransformedTargetRegressor\n",
        "from sklearn.model_selection import GridSearchCV\n",
        "\n",
        "# cross validation untuk menentukan algoritma terbaik\n",
        "from sklearn.model_selection import cross_val_score, StratifiedKFold, KFold\n",
        "from sklearn.model_selection import cross_validate\n",
        "\n",
        "# metrics untuk regresi\n",
        "from sklearn.metrics import f1_score, classification_report\n",
        "from sklearn.metrics import confusion_matrix, precision_recall_curve, roc_auc_score, roc_curve\n",
        "from sklearn.metrics import mean_squared_error, mean_absolute_error, mean_absolute_percentage_error,r2_score,mean_squared_log_error\n",
        "\n",
        "import warnings\n",
        "warnings.filterwarnings('ignore')"
      ]
    },
    {
      "cell_type": "markdown",
      "metadata": {
        "id": "rwS63ntbVoPi"
      },
      "source": [
        "**Define Features (X) and Target (y)**"
      ]
    },
    {
      "cell_type": "code",
      "execution_count": 27,
      "metadata": {
        "id": "r-g-G8LcVoPi"
      },
      "outputs": [],
      "source": [
        "X = df_model.drop(columns=['cnt'])\n",
        "y = df_model['cnt']"
      ]
    },
    {
      "cell_type": "markdown",
      "metadata": {
        "id": "IinpChe5VoPi"
      },
      "source": [
        "**Train and Test Splitting**"
      ]
    },
    {
      "cell_type": "code",
      "execution_count": 28,
      "metadata": {
        "id": "nrI-sfp4VoPi"
      },
      "outputs": [],
      "source": [
        "X_train, X_test, y_train, y_test = train_test_split(\n",
        "    X,\n",
        "    y,\n",
        "    test_size=0.25,\n",
        "    random_state=31\n",
        ")"
      ]
    },
    {
      "cell_type": "markdown",
      "metadata": {
        "id": "ZCNnC2MbVoPj"
      },
      "source": [
        "**Encoding**"
      ]
    },
    {
      "cell_type": "markdown",
      "metadata": {
        "id": "ZS0PHoKyVoPj"
      },
      "source": [
        "To utilize all selected features, categorical features need to be converted into numerical features. We can use ColumnTransformer to perform this data type conversion, which can then be applied within the model pipeline."
      ]
    },
    {
      "cell_type": "code",
      "execution_count": 29,
      "metadata": {
        "colab": {
          "base_uri": "https://localhost:8080/",
          "height": 117
        },
        "id": "jRHpGt26VoPj",
        "outputId": "7475021e-51e6-4051-8a4c-ba87e548a0be"
      },
      "outputs": [
        {
          "data": {
            "text/html": [
              "<style>#sk-container-id-1 {color: black;}#sk-container-id-1 pre{padding: 0;}#sk-container-id-1 div.sk-toggleable {background-color: white;}#sk-container-id-1 label.sk-toggleable__label {cursor: pointer;display: block;width: 100%;margin-bottom: 0;padding: 0.3em;box-sizing: border-box;text-align: center;}#sk-container-id-1 label.sk-toggleable__label-arrow:before {content: \"▸\";float: left;margin-right: 0.25em;color: #696969;}#sk-container-id-1 label.sk-toggleable__label-arrow:hover:before {color: black;}#sk-container-id-1 div.sk-estimator:hover label.sk-toggleable__label-arrow:before {color: black;}#sk-container-id-1 div.sk-toggleable__content {max-height: 0;max-width: 0;overflow: hidden;text-align: left;background-color: #f0f8ff;}#sk-container-id-1 div.sk-toggleable__content pre {margin: 0.2em;color: black;border-radius: 0.25em;background-color: #f0f8ff;}#sk-container-id-1 input.sk-toggleable__control:checked~div.sk-toggleable__content {max-height: 200px;max-width: 100%;overflow: auto;}#sk-container-id-1 input.sk-toggleable__control:checked~label.sk-toggleable__label-arrow:before {content: \"▾\";}#sk-container-id-1 div.sk-estimator input.sk-toggleable__control:checked~label.sk-toggleable__label {background-color: #d4ebff;}#sk-container-id-1 div.sk-label input.sk-toggleable__control:checked~label.sk-toggleable__label {background-color: #d4ebff;}#sk-container-id-1 input.sk-hidden--visually {border: 0;clip: rect(1px 1px 1px 1px);clip: rect(1px, 1px, 1px, 1px);height: 1px;margin: -1px;overflow: hidden;padding: 0;position: absolute;width: 1px;}#sk-container-id-1 div.sk-estimator {font-family: monospace;background-color: #f0f8ff;border: 1px dotted black;border-radius: 0.25em;box-sizing: border-box;margin-bottom: 0.5em;}#sk-container-id-1 div.sk-estimator:hover {background-color: #d4ebff;}#sk-container-id-1 div.sk-parallel-item::after {content: \"\";width: 100%;border-bottom: 1px solid gray;flex-grow: 1;}#sk-container-id-1 div.sk-label:hover label.sk-toggleable__label {background-color: #d4ebff;}#sk-container-id-1 div.sk-serial::before {content: \"\";position: absolute;border-left: 1px solid gray;box-sizing: border-box;top: 0;bottom: 0;left: 50%;z-index: 0;}#sk-container-id-1 div.sk-serial {display: flex;flex-direction: column;align-items: center;background-color: white;padding-right: 0.2em;padding-left: 0.2em;position: relative;}#sk-container-id-1 div.sk-item {position: relative;z-index: 1;}#sk-container-id-1 div.sk-parallel {display: flex;align-items: stretch;justify-content: center;background-color: white;position: relative;}#sk-container-id-1 div.sk-item::before, #sk-container-id-1 div.sk-parallel-item::before {content: \"\";position: absolute;border-left: 1px solid gray;box-sizing: border-box;top: 0;bottom: 0;left: 50%;z-index: -1;}#sk-container-id-1 div.sk-parallel-item {display: flex;flex-direction: column;z-index: 1;position: relative;background-color: white;}#sk-container-id-1 div.sk-parallel-item:first-child::after {align-self: flex-end;width: 50%;}#sk-container-id-1 div.sk-parallel-item:last-child::after {align-self: flex-start;width: 50%;}#sk-container-id-1 div.sk-parallel-item:only-child::after {width: 0;}#sk-container-id-1 div.sk-dashed-wrapped {border: 1px dashed gray;margin: 0 0.4em 0.5em 0.4em;box-sizing: border-box;padding-bottom: 0.4em;background-color: white;}#sk-container-id-1 div.sk-label label {font-family: monospace;font-weight: bold;display: inline-block;line-height: 1.2em;}#sk-container-id-1 div.sk-label-container {text-align: center;}#sk-container-id-1 div.sk-container {/* jupyter's `normalize.less` sets `[hidden] { display: none; }` but bootstrap.min.css set `[hidden] { display: none !important; }` so we also need the `!important` here to be able to override the default hidden behavior on the sphinx rendered scikit-learn.org. See: https://github.com/scikit-learn/scikit-learn/issues/21755 */display: inline-block !important;position: relative;}#sk-container-id-1 div.sk-text-repr-fallback {display: none;}</style><div id=\"sk-container-id-1\" class=\"sk-top-container\"><div class=\"sk-text-repr-fallback\"><pre>ColumnTransformer(remainder=&#x27;passthrough&#x27;,\n",
              "                  transformers=[(&#x27;standard&#x27;, StandardScaler(),\n",
              "                                 [&#x27;hum&#x27;, &#x27;holiday&#x27;, &#x27;temp&#x27;, &#x27;hr&#x27;, &#x27;month&#x27;,\n",
              "                                  &#x27;dayofweek&#x27;, &#x27;weathersit&#x27;, &#x27;year&#x27;])])</pre><b>In a Jupyter environment, please rerun this cell to show the HTML representation or trust the notebook. <br />On GitHub, the HTML representation is unable to render, please try loading this page with nbviewer.org.</b></div><div class=\"sk-container\" hidden><div class=\"sk-item sk-dashed-wrapped\"><div class=\"sk-label-container\"><div class=\"sk-label sk-toggleable\"><input class=\"sk-toggleable__control sk-hidden--visually\" id=\"sk-estimator-id-1\" type=\"checkbox\" ><label for=\"sk-estimator-id-1\" class=\"sk-toggleable__label sk-toggleable__label-arrow\">ColumnTransformer</label><div class=\"sk-toggleable__content\"><pre>ColumnTransformer(remainder=&#x27;passthrough&#x27;,\n",
              "                  transformers=[(&#x27;standard&#x27;, StandardScaler(),\n",
              "                                 [&#x27;hum&#x27;, &#x27;holiday&#x27;, &#x27;temp&#x27;, &#x27;hr&#x27;, &#x27;month&#x27;,\n",
              "                                  &#x27;dayofweek&#x27;, &#x27;weathersit&#x27;, &#x27;year&#x27;])])</pre></div></div></div><div class=\"sk-parallel\"><div class=\"sk-parallel-item\"><div class=\"sk-item\"><div class=\"sk-label-container\"><div class=\"sk-label sk-toggleable\"><input class=\"sk-toggleable__control sk-hidden--visually\" id=\"sk-estimator-id-2\" type=\"checkbox\" ><label for=\"sk-estimator-id-2\" class=\"sk-toggleable__label sk-toggleable__label-arrow\">standard</label><div class=\"sk-toggleable__content\"><pre>[&#x27;hum&#x27;, &#x27;holiday&#x27;, &#x27;temp&#x27;, &#x27;hr&#x27;, &#x27;month&#x27;, &#x27;dayofweek&#x27;, &#x27;weathersit&#x27;, &#x27;year&#x27;]</pre></div></div></div><div class=\"sk-serial\"><div class=\"sk-item\"><div class=\"sk-estimator sk-toggleable\"><input class=\"sk-toggleable__control sk-hidden--visually\" id=\"sk-estimator-id-3\" type=\"checkbox\" ><label for=\"sk-estimator-id-3\" class=\"sk-toggleable__label sk-toggleable__label-arrow\">StandardScaler</label><div class=\"sk-toggleable__content\"><pre>StandardScaler()</pre></div></div></div></div></div></div><div class=\"sk-parallel-item\"><div class=\"sk-item\"><div class=\"sk-label-container\"><div class=\"sk-label sk-toggleable\"><input class=\"sk-toggleable__control sk-hidden--visually\" id=\"sk-estimator-id-4\" type=\"checkbox\" ><label for=\"sk-estimator-id-4\" class=\"sk-toggleable__label sk-toggleable__label-arrow\">remainder</label><div class=\"sk-toggleable__content\"><pre></pre></div></div></div><div class=\"sk-serial\"><div class=\"sk-item\"><div class=\"sk-estimator sk-toggleable\"><input class=\"sk-toggleable__control sk-hidden--visually\" id=\"sk-estimator-id-5\" type=\"checkbox\" ><label for=\"sk-estimator-id-5\" class=\"sk-toggleable__label sk-toggleable__label-arrow\">passthrough</label><div class=\"sk-toggleable__content\"><pre>passthrough</pre></div></div></div></div></div></div></div></div></div></div>"
            ],
            "text/plain": [
              "ColumnTransformer(remainder='passthrough',\n",
              "                  transformers=[('standard', StandardScaler(),\n",
              "                                 ['hum', 'holiday', 'temp', 'hr', 'month',\n",
              "                                  'dayofweek', 'weathersit', 'year'])])"
            ]
          },
          "execution_count": 29,
          "metadata": {},
          "output_type": "execute_result"
        }
      ],
      "source": [
        "transformer = ColumnTransformer([\n",
        "    ('standard', StandardScaler(), ['hum', 'holiday','temp','hr','month','dayofweek','weathersit', 'year']),\n",
        "], remainder='passthrough')\n",
        "\n",
        "transformer"
      ]
    },
    {
      "cell_type": "markdown",
      "metadata": {
        "id": "4-ST67BaVoPj"
      },
      "source": [
        "**Model Benchmarking**"
      ]
    },
    {
      "cell_type": "code",
      "execution_count": 30,
      "metadata": {
        "colab": {
          "base_uri": "https://localhost:8080/",
          "height": 488
        },
        "id": "9quhlO0AVoPj",
        "outputId": "1283befe-d498-422c-8fd7-6798c7c150bd"
      },
      "outputs": [
        {
          "data": {
            "text/html": [
              "<div>\n",
              "<style scoped>\n",
              "    .dataframe tbody tr th:only-of-type {\n",
              "        vertical-align: middle;\n",
              "    }\n",
              "\n",
              "    .dataframe tbody tr th {\n",
              "        vertical-align: top;\n",
              "    }\n",
              "\n",
              "    .dataframe thead th {\n",
              "        text-align: right;\n",
              "    }\n",
              "</style>\n",
              "<table border=\"1\" class=\"dataframe\">\n",
              "  <thead>\n",
              "    <tr style=\"text-align: right;\">\n",
              "      <th></th>\n",
              "      <th>model</th>\n",
              "      <th>RMSE</th>\n",
              "      <th>MAE</th>\n",
              "      <th>MAPE</th>\n",
              "    </tr>\n",
              "  </thead>\n",
              "  <tbody>\n",
              "    <tr>\n",
              "      <th>0</th>\n",
              "      <td>KNN</td>\n",
              "      <td>-101.158180</td>\n",
              "      <td>-66.829292</td>\n",
              "      <td>-1.415475</td>\n",
              "    </tr>\n",
              "    <tr>\n",
              "      <th>1</th>\n",
              "      <td>Decision Tree</td>\n",
              "      <td>-64.443599</td>\n",
              "      <td>-38.043101</td>\n",
              "      <td>-0.412715</td>\n",
              "    </tr>\n",
              "    <tr>\n",
              "      <th>2</th>\n",
              "      <td>Linear Regression</td>\n",
              "      <td>-143.060948</td>\n",
              "      <td>-107.212094</td>\n",
              "      <td>-3.310111</td>\n",
              "    </tr>\n",
              "    <tr>\n",
              "      <th>3</th>\n",
              "      <td>XG Boost</td>\n",
              "      <td>-44.802489</td>\n",
              "      <td>-27.972722</td>\n",
              "      <td>-0.431392</td>\n",
              "    </tr>\n",
              "    <tr>\n",
              "      <th>4</th>\n",
              "      <td>CatBoost</td>\n",
              "      <td>-42.902822</td>\n",
              "      <td>-26.946553</td>\n",
              "      <td>-0.451420</td>\n",
              "    </tr>\n",
              "    <tr>\n",
              "      <th>5</th>\n",
              "      <td>Random Forest</td>\n",
              "      <td>-48.219387</td>\n",
              "      <td>-29.094882</td>\n",
              "      <td>-0.355223</td>\n",
              "    </tr>\n",
              "    <tr>\n",
              "      <th>6</th>\n",
              "      <td>Gradient Boosting</td>\n",
              "      <td>-72.415302</td>\n",
              "      <td>-49.122359</td>\n",
              "      <td>-0.926079</td>\n",
              "    </tr>\n",
              "    <tr>\n",
              "      <th>7</th>\n",
              "      <td>KNN + Transformed Target Regressor</td>\n",
              "      <td>-106.158262</td>\n",
              "      <td>-64.662741</td>\n",
              "      <td>-0.754972</td>\n",
              "    </tr>\n",
              "    <tr>\n",
              "      <th>8</th>\n",
              "      <td>Decision Tree + Transformed Target Regressor</td>\n",
              "      <td>-65.860878</td>\n",
              "      <td>-38.435971</td>\n",
              "      <td>-0.405102</td>\n",
              "    </tr>\n",
              "    <tr>\n",
              "      <th>9</th>\n",
              "      <td>Linear Regression + Transformed Target Regressor</td>\n",
              "      <td>-165.638568</td>\n",
              "      <td>-110.015366</td>\n",
              "      <td>-1.421536</td>\n",
              "    </tr>\n",
              "    <tr>\n",
              "      <th>10</th>\n",
              "      <td>XG Boost + Transformed Target Regressor</td>\n",
              "      <td>-45.643154</td>\n",
              "      <td>-27.347989</td>\n",
              "      <td>-0.265484</td>\n",
              "    </tr>\n",
              "    <tr>\n",
              "      <th>11</th>\n",
              "      <td>CatBoost + Transformed Target Regressor</td>\n",
              "      <td>-42.124179</td>\n",
              "      <td>-25.520239</td>\n",
              "      <td>-0.248161</td>\n",
              "    </tr>\n",
              "    <tr>\n",
              "      <th>12</th>\n",
              "      <td>Random Forest + Transformed Target Regressor</td>\n",
              "      <td>-47.601149</td>\n",
              "      <td>-28.649747</td>\n",
              "      <td>-0.289820</td>\n",
              "    </tr>\n",
              "    <tr>\n",
              "      <th>13</th>\n",
              "      <td>Gradient Boosting + Transformed Target Regressor</td>\n",
              "      <td>-78.632936</td>\n",
              "      <td>-48.807054</td>\n",
              "      <td>-0.398160</td>\n",
              "    </tr>\n",
              "  </tbody>\n",
              "</table>\n",
              "</div>"
            ],
            "text/plain": [
              "                                               model        RMSE         MAE  \\\n",
              "0                                                KNN -101.158180  -66.829292   \n",
              "1                                      Decision Tree  -64.443599  -38.043101   \n",
              "2                                  Linear Regression -143.060948 -107.212094   \n",
              "3                                           XG Boost  -44.802489  -27.972722   \n",
              "4                                           CatBoost  -42.902822  -26.946553   \n",
              "5                                      Random Forest  -48.219387  -29.094882   \n",
              "6                                  Gradient Boosting  -72.415302  -49.122359   \n",
              "7                 KNN + Transformed Target Regressor -106.158262  -64.662741   \n",
              "8       Decision Tree + Transformed Target Regressor  -65.860878  -38.435971   \n",
              "9   Linear Regression + Transformed Target Regressor -165.638568 -110.015366   \n",
              "10           XG Boost + Transformed Target Regressor  -45.643154  -27.347989   \n",
              "11           CatBoost + Transformed Target Regressor  -42.124179  -25.520239   \n",
              "12      Random Forest + Transformed Target Regressor  -47.601149  -28.649747   \n",
              "13  Gradient Boosting + Transformed Target Regressor  -78.632936  -48.807054   \n",
              "\n",
              "        MAPE  \n",
              "0  -1.415475  \n",
              "1  -0.412715  \n",
              "2  -3.310111  \n",
              "3  -0.431392  \n",
              "4  -0.451420  \n",
              "5  -0.355223  \n",
              "6  -0.926079  \n",
              "7  -0.754972  \n",
              "8  -0.405102  \n",
              "9  -1.421536  \n",
              "10 -0.265484  \n",
              "11 -0.248161  \n",
              "12 -0.289820  \n",
              "13 -0.398160  "
            ]
          },
          "execution_count": 30,
          "metadata": {},
          "output_type": "execute_result"
        }
      ],
      "source": [
        "# Define models\n",
        "linreg = LinearRegression()\n",
        "knn = KNeighborsRegressor()\n",
        "tree = DecisionTreeRegressor(random_state=31)\n",
        "xgb = XGBRegressor(random_state = 31)\n",
        "cat = CatBoostRegressor(random_state=31, verbose=False)\n",
        "rf = RandomForestRegressor(random_state=31)\n",
        "gboost = GradientBoostingRegressor(random_state=31)\n",
        "\n",
        "estimators = [\n",
        "    ('linreg', LinearRegression()),\n",
        "    ('tree', DecisionTreeRegressor(random_state=31)),\n",
        "    ('knn', KNeighborsRegressor()),\n",
        "    ('xgb' ,XGBRegressor(random_state = 31) ),\n",
        "    ('cat' ,CatBoostRegressor(random_state=31, verbose=False)),\n",
        "    ('rf', RandomForestRegressor(random_state=31)),\n",
        "    ('gboost' , GradientBoostingRegressor(random_state=31))\n",
        "]\n",
        "\n",
        "\n",
        "models = {'KNN': knn,\n",
        "          'Decision Tree': tree,\n",
        "          'Linear Regression' : linreg,\n",
        "          'XG Boost' : xgb,\n",
        "          'CatBoost' : cat,\n",
        "          'Random Forest' : rf,\n",
        "          'Gradient Boosting' : gboost\n",
        "          }\n",
        "\n",
        "metrics = {'RMSE': 'neg_root_mean_squared_error',\n",
        "           'MAE': 'neg_mean_absolute_error',\n",
        "           'MAPE': 'neg_mean_absolute_percentage_error',\n",
        "        }\n",
        "\n",
        "\n",
        "test_rmse_arr = []\n",
        "test_mae_arr = []\n",
        "test_mape_arr = []\n",
        "list_algo = []\n",
        "\n",
        "\n",
        "\n",
        "for name_algo,model in models.items():\n",
        "    crossval = KFold(n_splits=5)\n",
        "\n",
        "    estimator = Pipeline([\n",
        "        ('transorm', transformer),\n",
        "        ('model', model),\n",
        "    ])\n",
        "\n",
        "    list_algo.append(name_algo)\n",
        "    scores = cross_validate(estimator, X_train, y_train,cv=crossval, scoring=metrics)\n",
        "    test_rmse_arr.append(scores['test_RMSE'].mean())\n",
        "    test_mae_arr.append(scores['test_MAE'].mean())\n",
        "    test_mape_arr.append(scores['test_MAPE'].mean())\n",
        "\n",
        "\n",
        "for name_algo,model in models.items():\n",
        "    model_ttr = TransformedTargetRegressor(model, func=np.log, inverse_func=np.exp)\n",
        "    crossval = KFold(n_splits=5)\n",
        "\n",
        "    estimator = Pipeline([\n",
        "        ('transorm', transformer),\n",
        "        ('model', model_ttr),\n",
        "    ])\n",
        "\n",
        "    list_algo.append(f'{name_algo} + Transformed Target Regressor')\n",
        "    scores = cross_validate(estimator, X_train, y_train,cv=crossval, scoring=metrics)\n",
        "    test_rmse_arr.append(scores['test_RMSE'].mean())\n",
        "    test_mae_arr.append(scores['test_MAE'].mean())\n",
        "    test_mape_arr.append(scores['test_MAPE'].mean())\n",
        "\n",
        "\n",
        "\n",
        "model_bench = pd.DataFrame({\n",
        "    'model': list_algo,\n",
        "    'RMSE': test_rmse_arr,\n",
        "    'MAE': test_mae_arr,\n",
        "    'MAPE': test_mape_arr,\n",
        "})\n",
        "\n",
        "model_bench"
      ]
    },
    {
      "cell_type": "code",
      "execution_count": 31,
      "metadata": {
        "colab": {
          "base_uri": "https://localhost:8080/",
          "height": 488
        },
        "id": "lAJPhoN9VoPk",
        "outputId": "be01d360-2246-44c4-e209-f954001b4801"
      },
      "outputs": [
        {
          "data": {
            "text/html": [
              "<div>\n",
              "<style scoped>\n",
              "    .dataframe tbody tr th:only-of-type {\n",
              "        vertical-align: middle;\n",
              "    }\n",
              "\n",
              "    .dataframe tbody tr th {\n",
              "        vertical-align: top;\n",
              "    }\n",
              "\n",
              "    .dataframe thead th {\n",
              "        text-align: right;\n",
              "    }\n",
              "</style>\n",
              "<table border=\"1\" class=\"dataframe\">\n",
              "  <thead>\n",
              "    <tr style=\"text-align: right;\">\n",
              "      <th></th>\n",
              "      <th>model</th>\n",
              "      <th>RMSE</th>\n",
              "      <th>MAE</th>\n",
              "      <th>MAPE</th>\n",
              "    </tr>\n",
              "  </thead>\n",
              "  <tbody>\n",
              "    <tr>\n",
              "      <th>11</th>\n",
              "      <td>CatBoost + Transformed Target Regressor</td>\n",
              "      <td>-42.124179</td>\n",
              "      <td>-25.520239</td>\n",
              "      <td>-0.248161</td>\n",
              "    </tr>\n",
              "    <tr>\n",
              "      <th>4</th>\n",
              "      <td>CatBoost</td>\n",
              "      <td>-42.902822</td>\n",
              "      <td>-26.946553</td>\n",
              "      <td>-0.451420</td>\n",
              "    </tr>\n",
              "    <tr>\n",
              "      <th>10</th>\n",
              "      <td>XG Boost + Transformed Target Regressor</td>\n",
              "      <td>-45.643154</td>\n",
              "      <td>-27.347989</td>\n",
              "      <td>-0.265484</td>\n",
              "    </tr>\n",
              "    <tr>\n",
              "      <th>3</th>\n",
              "      <td>XG Boost</td>\n",
              "      <td>-44.802489</td>\n",
              "      <td>-27.972722</td>\n",
              "      <td>-0.431392</td>\n",
              "    </tr>\n",
              "    <tr>\n",
              "      <th>12</th>\n",
              "      <td>Random Forest + Transformed Target Regressor</td>\n",
              "      <td>-47.601149</td>\n",
              "      <td>-28.649747</td>\n",
              "      <td>-0.289820</td>\n",
              "    </tr>\n",
              "    <tr>\n",
              "      <th>5</th>\n",
              "      <td>Random Forest</td>\n",
              "      <td>-48.219387</td>\n",
              "      <td>-29.094882</td>\n",
              "      <td>-0.355223</td>\n",
              "    </tr>\n",
              "    <tr>\n",
              "      <th>1</th>\n",
              "      <td>Decision Tree</td>\n",
              "      <td>-64.443599</td>\n",
              "      <td>-38.043101</td>\n",
              "      <td>-0.412715</td>\n",
              "    </tr>\n",
              "    <tr>\n",
              "      <th>8</th>\n",
              "      <td>Decision Tree + Transformed Target Regressor</td>\n",
              "      <td>-65.860878</td>\n",
              "      <td>-38.435971</td>\n",
              "      <td>-0.405102</td>\n",
              "    </tr>\n",
              "    <tr>\n",
              "      <th>13</th>\n",
              "      <td>Gradient Boosting + Transformed Target Regressor</td>\n",
              "      <td>-78.632936</td>\n",
              "      <td>-48.807054</td>\n",
              "      <td>-0.398160</td>\n",
              "    </tr>\n",
              "    <tr>\n",
              "      <th>6</th>\n",
              "      <td>Gradient Boosting</td>\n",
              "      <td>-72.415302</td>\n",
              "      <td>-49.122359</td>\n",
              "      <td>-0.926079</td>\n",
              "    </tr>\n",
              "    <tr>\n",
              "      <th>7</th>\n",
              "      <td>KNN + Transformed Target Regressor</td>\n",
              "      <td>-106.158262</td>\n",
              "      <td>-64.662741</td>\n",
              "      <td>-0.754972</td>\n",
              "    </tr>\n",
              "    <tr>\n",
              "      <th>0</th>\n",
              "      <td>KNN</td>\n",
              "      <td>-101.158180</td>\n",
              "      <td>-66.829292</td>\n",
              "      <td>-1.415475</td>\n",
              "    </tr>\n",
              "    <tr>\n",
              "      <th>2</th>\n",
              "      <td>Linear Regression</td>\n",
              "      <td>-143.060948</td>\n",
              "      <td>-107.212094</td>\n",
              "      <td>-3.310111</td>\n",
              "    </tr>\n",
              "    <tr>\n",
              "      <th>9</th>\n",
              "      <td>Linear Regression + Transformed Target Regressor</td>\n",
              "      <td>-165.638568</td>\n",
              "      <td>-110.015366</td>\n",
              "      <td>-1.421536</td>\n",
              "    </tr>\n",
              "  </tbody>\n",
              "</table>\n",
              "</div>"
            ],
            "text/plain": [
              "                                               model        RMSE         MAE  \\\n",
              "11           CatBoost + Transformed Target Regressor  -42.124179  -25.520239   \n",
              "4                                           CatBoost  -42.902822  -26.946553   \n",
              "10           XG Boost + Transformed Target Regressor  -45.643154  -27.347989   \n",
              "3                                           XG Boost  -44.802489  -27.972722   \n",
              "12      Random Forest + Transformed Target Regressor  -47.601149  -28.649747   \n",
              "5                                      Random Forest  -48.219387  -29.094882   \n",
              "1                                      Decision Tree  -64.443599  -38.043101   \n",
              "8       Decision Tree + Transformed Target Regressor  -65.860878  -38.435971   \n",
              "13  Gradient Boosting + Transformed Target Regressor  -78.632936  -48.807054   \n",
              "6                                  Gradient Boosting  -72.415302  -49.122359   \n",
              "7                 KNN + Transformed Target Regressor -106.158262  -64.662741   \n",
              "0                                                KNN -101.158180  -66.829292   \n",
              "2                                  Linear Regression -143.060948 -107.212094   \n",
              "9   Linear Regression + Transformed Target Regressor -165.638568 -110.015366   \n",
              "\n",
              "        MAPE  \n",
              "11 -0.248161  \n",
              "4  -0.451420  \n",
              "10 -0.265484  \n",
              "3  -0.431392  \n",
              "12 -0.289820  \n",
              "5  -0.355223  \n",
              "1  -0.412715  \n",
              "8  -0.405102  \n",
              "13 -0.398160  \n",
              "6  -0.926079  \n",
              "7  -0.754972  \n",
              "0  -1.415475  \n",
              "2  -3.310111  \n",
              "9  -1.421536  "
            ]
          },
          "execution_count": 31,
          "metadata": {},
          "output_type": "execute_result"
        }
      ],
      "source": [
        "model_bench.sort_values(by = 'MAE', ascending=False)"
      ]
    },
    {
      "cell_type": "markdown",
      "metadata": {
        "id": "DdJKJ6BoVoPk"
      },
      "source": [
        "The best scoring model are catboost regressor with transformed target regressor.\n",
        "\n",
        "CatBoostRegressor, like other gradient boosting regressors, combines the power of multiple decision trees to predict continuous numerical values. It builds a strong ensemble model by iteratively fitting trees to the residuals of the previous ones, minimizing the overall prediction error. CatBoost's innovation lies in its effective handling of categorical features and robust regularization techniques, allowing it to provide accurate predictions even in the presence of mixed data types. It optimizes the splitting strategy, utilizes target encoding for categorical variables, and employs L2 regularization, ultimately resulting in a reliable regression model with strong predictive capabilities."
      ]
    },
    {
      "cell_type": "markdown",
      "metadata": {},
      "source": [
        "More information:\n",
        "\n",
        "https://catboost.ai/en/docs/"
      ]
    },
    {
      "cell_type": "markdown",
      "metadata": {
        "id": "QvtY5955VoPk"
      },
      "source": [
        "## Predict to Test Set with the Benchmark Model\n",
        "\n",
        "Predict on the dataset using Catboost + Transformed Target Regressor"
      ]
    },
    {
      "cell_type": "code",
      "execution_count": 32,
      "metadata": {
        "colab": {
          "base_uri": "https://localhost:8080/",
          "height": 81
        },
        "id": "M6EXkKU3VoPk",
        "outputId": "ee3e0048-ae2d-4d2d-e088-a5b5cded9dc3"
      },
      "outputs": [
        {
          "data": {
            "text/html": [
              "<div>\n",
              "<style scoped>\n",
              "    .dataframe tbody tr th:only-of-type {\n",
              "        vertical-align: middle;\n",
              "    }\n",
              "\n",
              "    .dataframe tbody tr th {\n",
              "        vertical-align: top;\n",
              "    }\n",
              "\n",
              "    .dataframe thead th {\n",
              "        text-align: right;\n",
              "    }\n",
              "</style>\n",
              "<table border=\"1\" class=\"dataframe\">\n",
              "  <thead>\n",
              "    <tr style=\"text-align: right;\">\n",
              "      <th></th>\n",
              "      <th>model</th>\n",
              "      <th>RMSE</th>\n",
              "      <th>MAE</th>\n",
              "      <th>MAPE</th>\n",
              "    </tr>\n",
              "  </thead>\n",
              "  <tbody>\n",
              "    <tr>\n",
              "      <th>0</th>\n",
              "      <td>Catboost Transformed Before Tuning</td>\n",
              "      <td>42.39006</td>\n",
              "      <td>24.840857</td>\n",
              "      <td>0.240317</td>\n",
              "    </tr>\n",
              "  </tbody>\n",
              "</table>\n",
              "</div>"
            ],
            "text/plain": [
              "                                model      RMSE        MAE      MAPE\n",
              "0  Catboost Transformed Before Tuning  42.39006  24.840857  0.240317"
            ]
          },
          "execution_count": 32,
          "metadata": {},
          "output_type": "execute_result"
        }
      ],
      "source": [
        "# Define models\n",
        "cat = CatBoostRegressor(random_state=31, verbose=False)\n",
        "cat_ttr = TransformedTargetRegressor(cat, func=np.log, inverse_func=np.exp)\n",
        "\n",
        "model_before_tuning = Pipeline([\n",
        "    ('transform', transformer),\n",
        "    ('model', cat_ttr)\n",
        "])\n",
        "\n",
        "\n",
        "test_rmse_arr = []\n",
        "test_mae_arr = []\n",
        "test_mape_arr = []\n",
        "list_algo = []\n",
        "\n",
        "\n",
        "\n",
        "model_before_tuning.fit(X_train, y_train)\n",
        "y_pred_before_tuning = model_before_tuning.predict(X_test)\n",
        "list_algo.append('Catboost Transformed Before Tuning')\n",
        "test_rmse_arr.append(np.sqrt(mean_squared_error(y_test,y_pred_before_tuning)))\n",
        "test_mae_arr.append(mean_absolute_error(y_test,y_pred_before_tuning))\n",
        "test_mape_arr.append(mean_absolute_percentage_error(y_test,y_pred_before_tuning))\n",
        "\n",
        "model_result = pd.DataFrame({\n",
        "    'model': list_algo,\n",
        "    'RMSE': test_rmse_arr,\n",
        "    'MAE': test_mae_arr,\n",
        "    'MAPE': test_mape_arr,\n",
        "\n",
        "})\n",
        "\n",
        "model_result"
      ]
    },
    {
      "cell_type": "markdown",
      "metadata": {
        "id": "vSibscbDVoPl"
      },
      "source": [
        "## Predict to dataset with hyperparameter tuning"
      ]
    },
    {
      "cell_type": "markdown",
      "metadata": {},
      "source": [
        "In the provided `hyperparam_space`, we're defining a hyperparameter search space for tuning a CatBoostRegressor model using scikit-learn's `GridSearchCV` or a similar hyperparameter tuning approach. Let's break down the meaning of each hyperparameter in this context:\n",
        "\n",
        "1. **`'model__regressor__iterations'`**:\n",
        "   \n",
        "   - The number of boosting iterations (trees) to be built. Higher values can lead to better fitting but can also increase the risk of overfitting.\n",
        "\n",
        "2. **`'model__regressor__learning_rate'`**:\n",
        "   \n",
        "   - The step size at which the boosting algorithm adapts and learns. A lower learning rate makes the model more robust but may require more iterations to converge.\n",
        "\n",
        "3. **`'model__regressor__depth'`**:\n",
        "   \n",
        "   - The depth of the individual trees (base learners). It controls the complexity of the model and the interactions captured by each tree.\n",
        "\n",
        "4. **`'model__regressor__l2_leaf_reg'`**:\n",
        "   \n",
        "   - The L2 regularization coefficient for leaf values. It helps control the model's complexity and prevent overfitting.\n",
        "\n",
        "5. **`'model__regressor__border_count'`**:\n",
        "   \n",
        "   - The number of splits used for numerical features. This parameter affects the process of discretizing numerical features, which is important for tree-based models.\n",
        "\n",
        "6. **`'model__regressor__od_type'`**:\n",
        "   \n",
        "   - Type of overfitting detector. Options include no detector (`None`), incremental to decremental change in performance ('IncToDec'), or iteration-based detector ('Iter'). These help control early stopping based on overfitting.\n",
        "\n",
        "The hyperparameter search space is defined with specific values or a set of options for each hyperparameter. The goal is to use techniques like grid search or random search to explore different combinations of these hyperparameters and find the combination that yields the best performance for the model on the given data.\n",
        "\n",
        "For example, you might perform a grid search using this hyperparameter space to find the best combination of these parameters by evaluating the model's performance for each combination using cross-validation or a similar validation approach."
      ]
    },
    {
      "cell_type": "code",
      "execution_count": 37,
      "metadata": {
        "colab": {
          "base_uri": "https://localhost:8080/",
          "height": 282
        },
        "id": "xUqPaPZmVoPl",
        "outputId": "cabeed1b-1c6a-4982-a12f-ffdc380a91de"
      },
      "outputs": [
        {
          "data": {
            "text/html": [
              "<style>#sk-container-id-3 {color: black;}#sk-container-id-3 pre{padding: 0;}#sk-container-id-3 div.sk-toggleable {background-color: white;}#sk-container-id-3 label.sk-toggleable__label {cursor: pointer;display: block;width: 100%;margin-bottom: 0;padding: 0.3em;box-sizing: border-box;text-align: center;}#sk-container-id-3 label.sk-toggleable__label-arrow:before {content: \"▸\";float: left;margin-right: 0.25em;color: #696969;}#sk-container-id-3 label.sk-toggleable__label-arrow:hover:before {color: black;}#sk-container-id-3 div.sk-estimator:hover label.sk-toggleable__label-arrow:before {color: black;}#sk-container-id-3 div.sk-toggleable__content {max-height: 0;max-width: 0;overflow: hidden;text-align: left;background-color: #f0f8ff;}#sk-container-id-3 div.sk-toggleable__content pre {margin: 0.2em;color: black;border-radius: 0.25em;background-color: #f0f8ff;}#sk-container-id-3 input.sk-toggleable__control:checked~div.sk-toggleable__content {max-height: 200px;max-width: 100%;overflow: auto;}#sk-container-id-3 input.sk-toggleable__control:checked~label.sk-toggleable__label-arrow:before {content: \"▾\";}#sk-container-id-3 div.sk-estimator input.sk-toggleable__control:checked~label.sk-toggleable__label {background-color: #d4ebff;}#sk-container-id-3 div.sk-label input.sk-toggleable__control:checked~label.sk-toggleable__label {background-color: #d4ebff;}#sk-container-id-3 input.sk-hidden--visually {border: 0;clip: rect(1px 1px 1px 1px);clip: rect(1px, 1px, 1px, 1px);height: 1px;margin: -1px;overflow: hidden;padding: 0;position: absolute;width: 1px;}#sk-container-id-3 div.sk-estimator {font-family: monospace;background-color: #f0f8ff;border: 1px dotted black;border-radius: 0.25em;box-sizing: border-box;margin-bottom: 0.5em;}#sk-container-id-3 div.sk-estimator:hover {background-color: #d4ebff;}#sk-container-id-3 div.sk-parallel-item::after {content: \"\";width: 100%;border-bottom: 1px solid gray;flex-grow: 1;}#sk-container-id-3 div.sk-label:hover label.sk-toggleable__label {background-color: #d4ebff;}#sk-container-id-3 div.sk-serial::before {content: \"\";position: absolute;border-left: 1px solid gray;box-sizing: border-box;top: 0;bottom: 0;left: 50%;z-index: 0;}#sk-container-id-3 div.sk-serial {display: flex;flex-direction: column;align-items: center;background-color: white;padding-right: 0.2em;padding-left: 0.2em;position: relative;}#sk-container-id-3 div.sk-item {position: relative;z-index: 1;}#sk-container-id-3 div.sk-parallel {display: flex;align-items: stretch;justify-content: center;background-color: white;position: relative;}#sk-container-id-3 div.sk-item::before, #sk-container-id-3 div.sk-parallel-item::before {content: \"\";position: absolute;border-left: 1px solid gray;box-sizing: border-box;top: 0;bottom: 0;left: 50%;z-index: -1;}#sk-container-id-3 div.sk-parallel-item {display: flex;flex-direction: column;z-index: 1;position: relative;background-color: white;}#sk-container-id-3 div.sk-parallel-item:first-child::after {align-self: flex-end;width: 50%;}#sk-container-id-3 div.sk-parallel-item:last-child::after {align-self: flex-start;width: 50%;}#sk-container-id-3 div.sk-parallel-item:only-child::after {width: 0;}#sk-container-id-3 div.sk-dashed-wrapped {border: 1px dashed gray;margin: 0 0.4em 0.5em 0.4em;box-sizing: border-box;padding-bottom: 0.4em;background-color: white;}#sk-container-id-3 div.sk-label label {font-family: monospace;font-weight: bold;display: inline-block;line-height: 1.2em;}#sk-container-id-3 div.sk-label-container {text-align: center;}#sk-container-id-3 div.sk-container {/* jupyter's `normalize.less` sets `[hidden] { display: none; }` but bootstrap.min.css set `[hidden] { display: none !important; }` so we also need the `!important` here to be able to override the default hidden behavior on the sphinx rendered scikit-learn.org. See: https://github.com/scikit-learn/scikit-learn/issues/21755 */display: inline-block !important;position: relative;}#sk-container-id-3 div.sk-text-repr-fallback {display: none;}</style><div id=\"sk-container-id-3\" class=\"sk-top-container\"><div class=\"sk-text-repr-fallback\"><pre>GridSearchCV(cv=5,\n",
              "             estimator=Pipeline(steps=[(&#x27;transform&#x27;,\n",
              "                                        ColumnTransformer(remainder=&#x27;passthrough&#x27;,\n",
              "                                                          transformers=[(&#x27;standard&#x27;,\n",
              "                                                                         StandardScaler(),\n",
              "                                                                         [&#x27;hum&#x27;,\n",
              "                                                                          &#x27;holiday&#x27;,\n",
              "                                                                          &#x27;temp&#x27;,\n",
              "                                                                          &#x27;hr&#x27;,\n",
              "                                                                          &#x27;month&#x27;,\n",
              "                                                                          &#x27;dayofweek&#x27;,\n",
              "                                                                          &#x27;weathersit&#x27;,\n",
              "                                                                          &#x27;year&#x27;])])),\n",
              "                                       (&#x27;model&#x27;,\n",
              "                                        TransformedTargetRegressor(func=&lt;ufunc &#x27;log&#x27;&gt;,\n",
              "                                                                   inverse_func=&lt;ufunc &#x27;exp&#x27;&gt;,\n",
              "                                                                   regressor=&lt;catboost.core.CatBoostRegressor object at 0x00...\n",
              "             n_jobs=-1,\n",
              "             param_grid={&#x27;model__regressor__border_count&#x27;: [None, 32, 64, 128],\n",
              "                         &#x27;model__regressor__depth&#x27;: [None, 4, 6, 8, 10],\n",
              "                         &#x27;model__regressor__iterations&#x27;: [None, 50, 100, 150],\n",
              "                         &#x27;model__regressor__l2_leaf_reg&#x27;: [None, 1, 3, 5, 7, 9],\n",
              "                         &#x27;model__regressor__learning_rate&#x27;: [None, 0.01, 0.1,\n",
              "                                                             0.2],\n",
              "                         &#x27;model__regressor__od_type&#x27;: [None, &#x27;IncToDec&#x27;,\n",
              "                                                       &#x27;Iter&#x27;]},\n",
              "             scoring=&#x27;neg_mean_absolute_error&#x27;)</pre><b>In a Jupyter environment, please rerun this cell to show the HTML representation or trust the notebook. <br />On GitHub, the HTML representation is unable to render, please try loading this page with nbviewer.org.</b></div><div class=\"sk-container\" hidden><div class=\"sk-item sk-dashed-wrapped\"><div class=\"sk-label-container\"><div class=\"sk-label sk-toggleable\"><input class=\"sk-toggleable__control sk-hidden--visually\" id=\"sk-estimator-id-15\" type=\"checkbox\" ><label for=\"sk-estimator-id-15\" class=\"sk-toggleable__label sk-toggleable__label-arrow\">GridSearchCV</label><div class=\"sk-toggleable__content\"><pre>GridSearchCV(cv=5,\n",
              "             estimator=Pipeline(steps=[(&#x27;transform&#x27;,\n",
              "                                        ColumnTransformer(remainder=&#x27;passthrough&#x27;,\n",
              "                                                          transformers=[(&#x27;standard&#x27;,\n",
              "                                                                         StandardScaler(),\n",
              "                                                                         [&#x27;hum&#x27;,\n",
              "                                                                          &#x27;holiday&#x27;,\n",
              "                                                                          &#x27;temp&#x27;,\n",
              "                                                                          &#x27;hr&#x27;,\n",
              "                                                                          &#x27;month&#x27;,\n",
              "                                                                          &#x27;dayofweek&#x27;,\n",
              "                                                                          &#x27;weathersit&#x27;,\n",
              "                                                                          &#x27;year&#x27;])])),\n",
              "                                       (&#x27;model&#x27;,\n",
              "                                        TransformedTargetRegressor(func=&lt;ufunc &#x27;log&#x27;&gt;,\n",
              "                                                                   inverse_func=&lt;ufunc &#x27;exp&#x27;&gt;,\n",
              "                                                                   regressor=&lt;catboost.core.CatBoostRegressor object at 0x00...\n",
              "             n_jobs=-1,\n",
              "             param_grid={&#x27;model__regressor__border_count&#x27;: [None, 32, 64, 128],\n",
              "                         &#x27;model__regressor__depth&#x27;: [None, 4, 6, 8, 10],\n",
              "                         &#x27;model__regressor__iterations&#x27;: [None, 50, 100, 150],\n",
              "                         &#x27;model__regressor__l2_leaf_reg&#x27;: [None, 1, 3, 5, 7, 9],\n",
              "                         &#x27;model__regressor__learning_rate&#x27;: [None, 0.01, 0.1,\n",
              "                                                             0.2],\n",
              "                         &#x27;model__regressor__od_type&#x27;: [None, &#x27;IncToDec&#x27;,\n",
              "                                                       &#x27;Iter&#x27;]},\n",
              "             scoring=&#x27;neg_mean_absolute_error&#x27;)</pre></div></div></div><div class=\"sk-parallel\"><div class=\"sk-parallel-item\"><div class=\"sk-item\"><div class=\"sk-label-container\"><div class=\"sk-label sk-toggleable\"><input class=\"sk-toggleable__control sk-hidden--visually\" id=\"sk-estimator-id-16\" type=\"checkbox\" ><label for=\"sk-estimator-id-16\" class=\"sk-toggleable__label sk-toggleable__label-arrow\">estimator: Pipeline</label><div class=\"sk-toggleable__content\"><pre>Pipeline(steps=[(&#x27;transform&#x27;,\n",
              "                 ColumnTransformer(remainder=&#x27;passthrough&#x27;,\n",
              "                                   transformers=[(&#x27;standard&#x27;, StandardScaler(),\n",
              "                                                  [&#x27;hum&#x27;, &#x27;holiday&#x27;, &#x27;temp&#x27;,\n",
              "                                                   &#x27;hr&#x27;, &#x27;month&#x27;, &#x27;dayofweek&#x27;,\n",
              "                                                   &#x27;weathersit&#x27;, &#x27;year&#x27;])])),\n",
              "                (&#x27;model&#x27;,\n",
              "                 TransformedTargetRegressor(func=&lt;ufunc &#x27;log&#x27;&gt;,\n",
              "                                            inverse_func=&lt;ufunc &#x27;exp&#x27;&gt;,\n",
              "                                            regressor=&lt;catboost.core.CatBoostRegressor object at 0x00000241BE06F7D0&gt;))])</pre></div></div></div><div class=\"sk-serial\"><div class=\"sk-item\"><div class=\"sk-serial\"><div class=\"sk-item sk-dashed-wrapped\"><div class=\"sk-label-container\"><div class=\"sk-label sk-toggleable\"><input class=\"sk-toggleable__control sk-hidden--visually\" id=\"sk-estimator-id-17\" type=\"checkbox\" ><label for=\"sk-estimator-id-17\" class=\"sk-toggleable__label sk-toggleable__label-arrow\">transform: ColumnTransformer</label><div class=\"sk-toggleable__content\"><pre>ColumnTransformer(remainder=&#x27;passthrough&#x27;,\n",
              "                  transformers=[(&#x27;standard&#x27;, StandardScaler(),\n",
              "                                 [&#x27;hum&#x27;, &#x27;holiday&#x27;, &#x27;temp&#x27;, &#x27;hr&#x27;, &#x27;month&#x27;,\n",
              "                                  &#x27;dayofweek&#x27;, &#x27;weathersit&#x27;, &#x27;year&#x27;])])</pre></div></div></div><div class=\"sk-parallel\"><div class=\"sk-parallel-item\"><div class=\"sk-item\"><div class=\"sk-label-container\"><div class=\"sk-label sk-toggleable\"><input class=\"sk-toggleable__control sk-hidden--visually\" id=\"sk-estimator-id-18\" type=\"checkbox\" ><label for=\"sk-estimator-id-18\" class=\"sk-toggleable__label sk-toggleable__label-arrow\">standard</label><div class=\"sk-toggleable__content\"><pre>[&#x27;hum&#x27;, &#x27;holiday&#x27;, &#x27;temp&#x27;, &#x27;hr&#x27;, &#x27;month&#x27;, &#x27;dayofweek&#x27;, &#x27;weathersit&#x27;, &#x27;year&#x27;]</pre></div></div></div><div class=\"sk-serial\"><div class=\"sk-item\"><div class=\"sk-estimator sk-toggleable\"><input class=\"sk-toggleable__control sk-hidden--visually\" id=\"sk-estimator-id-19\" type=\"checkbox\" ><label for=\"sk-estimator-id-19\" class=\"sk-toggleable__label sk-toggleable__label-arrow\">StandardScaler</label><div class=\"sk-toggleable__content\"><pre>StandardScaler()</pre></div></div></div></div></div></div><div class=\"sk-parallel-item\"><div class=\"sk-item\"><div class=\"sk-label-container\"><div class=\"sk-label sk-toggleable\"><input class=\"sk-toggleable__control sk-hidden--visually\" id=\"sk-estimator-id-20\" type=\"checkbox\" ><label for=\"sk-estimator-id-20\" class=\"sk-toggleable__label sk-toggleable__label-arrow\">remainder</label><div class=\"sk-toggleable__content\"><pre>[]</pre></div></div></div><div class=\"sk-serial\"><div class=\"sk-item\"><div class=\"sk-estimator sk-toggleable\"><input class=\"sk-toggleable__control sk-hidden--visually\" id=\"sk-estimator-id-21\" type=\"checkbox\" ><label for=\"sk-estimator-id-21\" class=\"sk-toggleable__label sk-toggleable__label-arrow\">passthrough</label><div class=\"sk-toggleable__content\"><pre>passthrough</pre></div></div></div></div></div></div></div></div><div class=\"sk-item sk-dashed-wrapped\"><div class=\"sk-label-container\"><div class=\"sk-label sk-toggleable\"><input class=\"sk-toggleable__control sk-hidden--visually\" id=\"sk-estimator-id-22\" type=\"checkbox\" ><label for=\"sk-estimator-id-22\" class=\"sk-toggleable__label sk-toggleable__label-arrow\">model: TransformedTargetRegressor</label><div class=\"sk-toggleable__content\"><pre>TransformedTargetRegressor(func=&lt;ufunc &#x27;log&#x27;&gt;, inverse_func=&lt;ufunc &#x27;exp&#x27;&gt;,\n",
              "                           regressor=&lt;catboost.core.CatBoostRegressor object at 0x00000241BE06F7D0&gt;)</pre></div></div></div><div class=\"sk-parallel\"><div class=\"sk-parallel-item\"><div class=\"sk-item\"><div class=\"sk-label-container\"><div class=\"sk-label sk-toggleable\"><input class=\"sk-toggleable__control sk-hidden--visually\" id=\"sk-estimator-id-23\" type=\"checkbox\" ><label for=\"sk-estimator-id-23\" class=\"sk-toggleable__label sk-toggleable__label-arrow\">regressor: CatBoostRegressor</label><div class=\"sk-toggleable__content\"><pre>&lt;catboost.core.CatBoostRegressor object at 0x00000241BE06F7D0&gt;</pre></div></div></div><div class=\"sk-serial\"><div class=\"sk-item\"><div class=\"sk-estimator sk-toggleable\"><input class=\"sk-toggleable__control sk-hidden--visually\" id=\"sk-estimator-id-24\" type=\"checkbox\" ><label for=\"sk-estimator-id-24\" class=\"sk-toggleable__label sk-toggleable__label-arrow\">CatBoostRegressor</label><div class=\"sk-toggleable__content\"><pre>&lt;catboost.core.CatBoostRegressor object at 0x00000241BE06F7D0&gt;</pre></div></div></div></div></div></div></div></div></div></div></div></div></div></div></div></div></div>"
            ],
            "text/plain": [
              "GridSearchCV(cv=5,\n",
              "             estimator=Pipeline(steps=[('transform',\n",
              "                                        ColumnTransformer(remainder='passthrough',\n",
              "                                                          transformers=[('standard',\n",
              "                                                                         StandardScaler(),\n",
              "                                                                         ['hum',\n",
              "                                                                          'holiday',\n",
              "                                                                          'temp',\n",
              "                                                                          'hr',\n",
              "                                                                          'month',\n",
              "                                                                          'dayofweek',\n",
              "                                                                          'weathersit',\n",
              "                                                                          'year'])])),\n",
              "                                       ('model',\n",
              "                                        TransformedTargetRegressor(func=<ufunc 'log'>,\n",
              "                                                                   inverse_func=<ufunc 'exp'>,\n",
              "                                                                   regressor=<catboost.core.CatBoostRegressor object at 0x00...\n",
              "             n_jobs=-1,\n",
              "             param_grid={'model__regressor__border_count': [None, 32, 64, 128],\n",
              "                         'model__regressor__depth': [None, 4, 6, 8, 10],\n",
              "                         'model__regressor__iterations': [None, 50, 100, 150],\n",
              "                         'model__regressor__l2_leaf_reg': [None, 1, 3, 5, 7, 9],\n",
              "                         'model__regressor__learning_rate': [None, 0.01, 0.1,\n",
              "                                                             0.2],\n",
              "                         'model__regressor__od_type': [None, 'IncToDec',\n",
              "                                                       'Iter']},\n",
              "             scoring='neg_mean_absolute_error')"
            ]
          },
          "execution_count": 37,
          "metadata": {},
          "output_type": "execute_result"
        }
      ],
      "source": [
        "hyperparam_space = {\n",
        "    'model__regressor__iterations': [None, 50, 100, 150],  # Number of boosting iterations\n",
        "    'model__regressor__learning_rate': [None, 0.01, 0.1, 0.2],  # Learning rate\n",
        "    'model__regressor__depth': [None, 4, 6, 8, 10],  # Depth of the trees\n",
        "    'model__regressor__l2_leaf_reg': [None, 1, 3, 5, 7, 9],  # L2 regularization coefficient\n",
        "    'model__regressor__border_count': [None, 32, 64, 128],  # Number of splits for numeric features\n",
        "    'model__regressor__od_type': [None, 'IncToDec', 'Iter'],  # Type of overfitting detector\n",
        "}\n",
        "\n",
        "\n",
        "cat = CatBoostRegressor(random_state=31, verbose=False)\n",
        "cat_ttr = TransformedTargetRegressor(cat, func=np.log, inverse_func=np.exp)\n",
        "model_after_tuning = Pipeline([\n",
        "    ('transform', transformer),\n",
        "    ('model', cat_ttr)\n",
        "])\n",
        "\n",
        "gridsearch_after_tuning = GridSearchCV(\n",
        "    estimator=model_after_tuning,\n",
        "    param_grid=hyperparam_space,\n",
        "    cv=5,\n",
        "    scoring = 'neg_mean_absolute_error',\n",
        "    n_jobs = -1\n",
        ")\n",
        "\n",
        "gridsearch_after_tuning.fit(X_train, y_train)"
      ]
    },
    {
      "cell_type": "code",
      "execution_count": 38,
      "metadata": {
        "colab": {
          "base_uri": "https://localhost:8080/"
        },
        "id": "zwSbW2roVoPl",
        "outputId": "44d690e7-2f1e-444b-df93-9d66231c5b4c"
      },
      "outputs": [
        {
          "data": {
            "text/plain": [
              "{'model__regressor__border_count': 128,\n",
              " 'model__regressor__depth': 10,\n",
              " 'model__regressor__iterations': 150,\n",
              " 'model__regressor__l2_leaf_reg': 1,\n",
              " 'model__regressor__learning_rate': 0.2,\n",
              " 'model__regressor__od_type': 'IncToDec'}"
            ]
          },
          "execution_count": 38,
          "metadata": {},
          "output_type": "execute_result"
        }
      ],
      "source": [
        "gridsearch_after_tuning.best_params_"
      ]
    },
    {
      "cell_type": "code",
      "execution_count": 39,
      "metadata": {
        "colab": {
          "base_uri": "https://localhost:8080/",
          "height": 112
        },
        "id": "ciOp9YfPVoPl",
        "outputId": "10cf0395-cb20-4c4a-9b7b-847bcac804fb"
      },
      "outputs": [
        {
          "data": {
            "text/html": [
              "<div>\n",
              "<style scoped>\n",
              "    .dataframe tbody tr th:only-of-type {\n",
              "        vertical-align: middle;\n",
              "    }\n",
              "\n",
              "    .dataframe tbody tr th {\n",
              "        vertical-align: top;\n",
              "    }\n",
              "\n",
              "    .dataframe thead th {\n",
              "        text-align: right;\n",
              "    }\n",
              "</style>\n",
              "<table border=\"1\" class=\"dataframe\">\n",
              "  <thead>\n",
              "    <tr style=\"text-align: right;\">\n",
              "      <th></th>\n",
              "      <th>model</th>\n",
              "      <th>RMSE</th>\n",
              "      <th>MAE</th>\n",
              "      <th>MAPE</th>\n",
              "    </tr>\n",
              "  </thead>\n",
              "  <tbody>\n",
              "    <tr>\n",
              "      <th>0</th>\n",
              "      <td>Catboost Transformed Before Tuning</td>\n",
              "      <td>42.390060</td>\n",
              "      <td>24.840857</td>\n",
              "      <td>0.240317</td>\n",
              "    </tr>\n",
              "    <tr>\n",
              "      <th>1</th>\n",
              "      <td>Catboost Transformed After Tuning</td>\n",
              "      <td>43.023493</td>\n",
              "      <td>24.956544</td>\n",
              "      <td>0.242029</td>\n",
              "    </tr>\n",
              "  </tbody>\n",
              "</table>\n",
              "</div>"
            ],
            "text/plain": [
              "                                model       RMSE        MAE      MAPE\n",
              "0  Catboost Transformed Before Tuning  42.390060  24.840857  0.240317\n",
              "1   Catboost Transformed After Tuning  43.023493  24.956544  0.242029"
            ]
          },
          "execution_count": 39,
          "metadata": {},
          "output_type": "execute_result"
        }
      ],
      "source": [
        "# Define models\n",
        "model_after_tuning = gridsearch_after_tuning.best_estimator_\n",
        "model_after_tuning.fit(X_train, y_train)\n",
        "\n",
        "y_pred_after_tuning = model_after_tuning.predict(X_test)\n",
        "list_algo.append('Catboost Transformed After Tuning')\n",
        "test_rmse_arr.append(np.sqrt(mean_squared_error(y_test,y_pred_after_tuning)))\n",
        "test_mae_arr.append(mean_absolute_error(y_test,y_pred_after_tuning))\n",
        "test_mape_arr.append(mean_absolute_percentage_error(y_test,y_pred_after_tuning))\n",
        "\n",
        "model_result = pd.DataFrame({\n",
        "    'model': list_algo,\n",
        "    'RMSE': test_rmse_arr,\n",
        "    'MAE': test_mae_arr,\n",
        "    'MAPE': test_mape_arr,\n",
        "})\n",
        "\n",
        "\n",
        "model_result"
      ]
    },
    {
      "cell_type": "code",
      "execution_count": 40,
      "metadata": {
        "colab": {
          "base_uri": "https://localhost:8080/",
          "height": 112
        },
        "id": "dZepFmG_VoPm",
        "outputId": "bbf58699-29bc-49e7-9be6-be447a3371c5"
      },
      "outputs": [
        {
          "data": {
            "text/html": [
              "<div>\n",
              "<style scoped>\n",
              "    .dataframe tbody tr th:only-of-type {\n",
              "        vertical-align: middle;\n",
              "    }\n",
              "\n",
              "    .dataframe tbody tr th {\n",
              "        vertical-align: top;\n",
              "    }\n",
              "\n",
              "    .dataframe thead th {\n",
              "        text-align: right;\n",
              "    }\n",
              "</style>\n",
              "<table border=\"1\" class=\"dataframe\">\n",
              "  <thead>\n",
              "    <tr style=\"text-align: right;\">\n",
              "      <th></th>\n",
              "      <th>model</th>\n",
              "      <th>RMSE</th>\n",
              "      <th>MAE</th>\n",
              "      <th>MAPE</th>\n",
              "    </tr>\n",
              "  </thead>\n",
              "  <tbody>\n",
              "    <tr>\n",
              "      <th>0</th>\n",
              "      <td>Catboost Transformed Before Tuning</td>\n",
              "      <td>42.390060</td>\n",
              "      <td>24.840857</td>\n",
              "      <td>0.240317</td>\n",
              "    </tr>\n",
              "    <tr>\n",
              "      <th>1</th>\n",
              "      <td>Catboost Transformed After Tuning</td>\n",
              "      <td>43.023493</td>\n",
              "      <td>24.956544</td>\n",
              "      <td>0.242029</td>\n",
              "    </tr>\n",
              "  </tbody>\n",
              "</table>\n",
              "</div>"
            ],
            "text/plain": [
              "                                model       RMSE        MAE      MAPE\n",
              "0  Catboost Transformed Before Tuning  42.390060  24.840857  0.240317\n",
              "1   Catboost Transformed After Tuning  43.023493  24.956544  0.242029"
            ]
          },
          "execution_count": 40,
          "metadata": {},
          "output_type": "execute_result"
        }
      ],
      "source": [
        "model_result.sort_values('MAE')"
      ]
    },
    {
      "cell_type": "code",
      "execution_count": 44,
      "metadata": {
        "id": "RzxKZg9aVoPm"
      },
      "outputs": [
        {
          "data": {
            "text/html": [
              "<style>#sk-container-id-4 {color: black;}#sk-container-id-4 pre{padding: 0;}#sk-container-id-4 div.sk-toggleable {background-color: white;}#sk-container-id-4 label.sk-toggleable__label {cursor: pointer;display: block;width: 100%;margin-bottom: 0;padding: 0.3em;box-sizing: border-box;text-align: center;}#sk-container-id-4 label.sk-toggleable__label-arrow:before {content: \"▸\";float: left;margin-right: 0.25em;color: #696969;}#sk-container-id-4 label.sk-toggleable__label-arrow:hover:before {color: black;}#sk-container-id-4 div.sk-estimator:hover label.sk-toggleable__label-arrow:before {color: black;}#sk-container-id-4 div.sk-toggleable__content {max-height: 0;max-width: 0;overflow: hidden;text-align: left;background-color: #f0f8ff;}#sk-container-id-4 div.sk-toggleable__content pre {margin: 0.2em;color: black;border-radius: 0.25em;background-color: #f0f8ff;}#sk-container-id-4 input.sk-toggleable__control:checked~div.sk-toggleable__content {max-height: 200px;max-width: 100%;overflow: auto;}#sk-container-id-4 input.sk-toggleable__control:checked~label.sk-toggleable__label-arrow:before {content: \"▾\";}#sk-container-id-4 div.sk-estimator input.sk-toggleable__control:checked~label.sk-toggleable__label {background-color: #d4ebff;}#sk-container-id-4 div.sk-label input.sk-toggleable__control:checked~label.sk-toggleable__label {background-color: #d4ebff;}#sk-container-id-4 input.sk-hidden--visually {border: 0;clip: rect(1px 1px 1px 1px);clip: rect(1px, 1px, 1px, 1px);height: 1px;margin: -1px;overflow: hidden;padding: 0;position: absolute;width: 1px;}#sk-container-id-4 div.sk-estimator {font-family: monospace;background-color: #f0f8ff;border: 1px dotted black;border-radius: 0.25em;box-sizing: border-box;margin-bottom: 0.5em;}#sk-container-id-4 div.sk-estimator:hover {background-color: #d4ebff;}#sk-container-id-4 div.sk-parallel-item::after {content: \"\";width: 100%;border-bottom: 1px solid gray;flex-grow: 1;}#sk-container-id-4 div.sk-label:hover label.sk-toggleable__label {background-color: #d4ebff;}#sk-container-id-4 div.sk-serial::before {content: \"\";position: absolute;border-left: 1px solid gray;box-sizing: border-box;top: 0;bottom: 0;left: 50%;z-index: 0;}#sk-container-id-4 div.sk-serial {display: flex;flex-direction: column;align-items: center;background-color: white;padding-right: 0.2em;padding-left: 0.2em;position: relative;}#sk-container-id-4 div.sk-item {position: relative;z-index: 1;}#sk-container-id-4 div.sk-parallel {display: flex;align-items: stretch;justify-content: center;background-color: white;position: relative;}#sk-container-id-4 div.sk-item::before, #sk-container-id-4 div.sk-parallel-item::before {content: \"\";position: absolute;border-left: 1px solid gray;box-sizing: border-box;top: 0;bottom: 0;left: 50%;z-index: -1;}#sk-container-id-4 div.sk-parallel-item {display: flex;flex-direction: column;z-index: 1;position: relative;background-color: white;}#sk-container-id-4 div.sk-parallel-item:first-child::after {align-self: flex-end;width: 50%;}#sk-container-id-4 div.sk-parallel-item:last-child::after {align-self: flex-start;width: 50%;}#sk-container-id-4 div.sk-parallel-item:only-child::after {width: 0;}#sk-container-id-4 div.sk-dashed-wrapped {border: 1px dashed gray;margin: 0 0.4em 0.5em 0.4em;box-sizing: border-box;padding-bottom: 0.4em;background-color: white;}#sk-container-id-4 div.sk-label label {font-family: monospace;font-weight: bold;display: inline-block;line-height: 1.2em;}#sk-container-id-4 div.sk-label-container {text-align: center;}#sk-container-id-4 div.sk-container {/* jupyter's `normalize.less` sets `[hidden] { display: none; }` but bootstrap.min.css set `[hidden] { display: none !important; }` so we also need the `!important` here to be able to override the default hidden behavior on the sphinx rendered scikit-learn.org. See: https://github.com/scikit-learn/scikit-learn/issues/21755 */display: inline-block !important;position: relative;}#sk-container-id-4 div.sk-text-repr-fallback {display: none;}</style><div id=\"sk-container-id-4\" class=\"sk-top-container\"><div class=\"sk-text-repr-fallback\"><pre>GridSearchCV(cv=5,\n",
              "             estimator=Pipeline(steps=[(&#x27;transform&#x27;,\n",
              "                                        ColumnTransformer(remainder=&#x27;passthrough&#x27;,\n",
              "                                                          transformers=[(&#x27;standard&#x27;,\n",
              "                                                                         StandardScaler(),\n",
              "                                                                         [&#x27;hum&#x27;,\n",
              "                                                                          &#x27;holiday&#x27;,\n",
              "                                                                          &#x27;temp&#x27;,\n",
              "                                                                          &#x27;hr&#x27;,\n",
              "                                                                          &#x27;month&#x27;,\n",
              "                                                                          &#x27;dayofweek&#x27;,\n",
              "                                                                          &#x27;weathersit&#x27;,\n",
              "                                                                          &#x27;year&#x27;])])),\n",
              "                                       (&#x27;model&#x27;,\n",
              "                                        TransformedTargetRegressor(func=&lt;ufunc &#x27;log&#x27;&gt;,\n",
              "                                                                   inverse_func=&lt;ufunc &#x27;exp&#x27;&gt;,\n",
              "                                                                   regressor=&lt;catboost.core.CatBoostRegressor object at 0x00000241CE26F710&gt;))]),\n",
              "             n_jobs=-1,\n",
              "             param_grid={&#x27;model__regressor__border_count&#x27;: [112, 128, 144],\n",
              "                         &#x27;model__regressor__depth&#x27;: [10, 12, 14],\n",
              "                         &#x27;model__regressor__iterations&#x27;: [140, 145, 150, 155],\n",
              "                         &#x27;model__regressor__l2_leaf_reg&#x27;: [1, 2, 3],\n",
              "                         &#x27;model__regressor__learning_rate&#x27;: [0.2, 0.3, 0.4],\n",
              "                         &#x27;model__regressor__od_type&#x27;: [&#x27;IncToDec&#x27;, &#x27;Iter&#x27;]},\n",
              "             scoring=&#x27;neg_mean_absolute_error&#x27;)</pre><b>In a Jupyter environment, please rerun this cell to show the HTML representation or trust the notebook. <br />On GitHub, the HTML representation is unable to render, please try loading this page with nbviewer.org.</b></div><div class=\"sk-container\" hidden><div class=\"sk-item sk-dashed-wrapped\"><div class=\"sk-label-container\"><div class=\"sk-label sk-toggleable\"><input class=\"sk-toggleable__control sk-hidden--visually\" id=\"sk-estimator-id-25\" type=\"checkbox\" ><label for=\"sk-estimator-id-25\" class=\"sk-toggleable__label sk-toggleable__label-arrow\">GridSearchCV</label><div class=\"sk-toggleable__content\"><pre>GridSearchCV(cv=5,\n",
              "             estimator=Pipeline(steps=[(&#x27;transform&#x27;,\n",
              "                                        ColumnTransformer(remainder=&#x27;passthrough&#x27;,\n",
              "                                                          transformers=[(&#x27;standard&#x27;,\n",
              "                                                                         StandardScaler(),\n",
              "                                                                         [&#x27;hum&#x27;,\n",
              "                                                                          &#x27;holiday&#x27;,\n",
              "                                                                          &#x27;temp&#x27;,\n",
              "                                                                          &#x27;hr&#x27;,\n",
              "                                                                          &#x27;month&#x27;,\n",
              "                                                                          &#x27;dayofweek&#x27;,\n",
              "                                                                          &#x27;weathersit&#x27;,\n",
              "                                                                          &#x27;year&#x27;])])),\n",
              "                                       (&#x27;model&#x27;,\n",
              "                                        TransformedTargetRegressor(func=&lt;ufunc &#x27;log&#x27;&gt;,\n",
              "                                                                   inverse_func=&lt;ufunc &#x27;exp&#x27;&gt;,\n",
              "                                                                   regressor=&lt;catboost.core.CatBoostRegressor object at 0x00000241CE26F710&gt;))]),\n",
              "             n_jobs=-1,\n",
              "             param_grid={&#x27;model__regressor__border_count&#x27;: [112, 128, 144],\n",
              "                         &#x27;model__regressor__depth&#x27;: [10, 12, 14],\n",
              "                         &#x27;model__regressor__iterations&#x27;: [140, 145, 150, 155],\n",
              "                         &#x27;model__regressor__l2_leaf_reg&#x27;: [1, 2, 3],\n",
              "                         &#x27;model__regressor__learning_rate&#x27;: [0.2, 0.3, 0.4],\n",
              "                         &#x27;model__regressor__od_type&#x27;: [&#x27;IncToDec&#x27;, &#x27;Iter&#x27;]},\n",
              "             scoring=&#x27;neg_mean_absolute_error&#x27;)</pre></div></div></div><div class=\"sk-parallel\"><div class=\"sk-parallel-item\"><div class=\"sk-item\"><div class=\"sk-label-container\"><div class=\"sk-label sk-toggleable\"><input class=\"sk-toggleable__control sk-hidden--visually\" id=\"sk-estimator-id-26\" type=\"checkbox\" ><label for=\"sk-estimator-id-26\" class=\"sk-toggleable__label sk-toggleable__label-arrow\">estimator: Pipeline</label><div class=\"sk-toggleable__content\"><pre>Pipeline(steps=[(&#x27;transform&#x27;,\n",
              "                 ColumnTransformer(remainder=&#x27;passthrough&#x27;,\n",
              "                                   transformers=[(&#x27;standard&#x27;, StandardScaler(),\n",
              "                                                  [&#x27;hum&#x27;, &#x27;holiday&#x27;, &#x27;temp&#x27;,\n",
              "                                                   &#x27;hr&#x27;, &#x27;month&#x27;, &#x27;dayofweek&#x27;,\n",
              "                                                   &#x27;weathersit&#x27;, &#x27;year&#x27;])])),\n",
              "                (&#x27;model&#x27;,\n",
              "                 TransformedTargetRegressor(func=&lt;ufunc &#x27;log&#x27;&gt;,\n",
              "                                            inverse_func=&lt;ufunc &#x27;exp&#x27;&gt;,\n",
              "                                            regressor=&lt;catboost.core.CatBoostRegressor object at 0x00000241CE26F710&gt;))])</pre></div></div></div><div class=\"sk-serial\"><div class=\"sk-item\"><div class=\"sk-serial\"><div class=\"sk-item sk-dashed-wrapped\"><div class=\"sk-label-container\"><div class=\"sk-label sk-toggleable\"><input class=\"sk-toggleable__control sk-hidden--visually\" id=\"sk-estimator-id-27\" type=\"checkbox\" ><label for=\"sk-estimator-id-27\" class=\"sk-toggleable__label sk-toggleable__label-arrow\">transform: ColumnTransformer</label><div class=\"sk-toggleable__content\"><pre>ColumnTransformer(remainder=&#x27;passthrough&#x27;,\n",
              "                  transformers=[(&#x27;standard&#x27;, StandardScaler(),\n",
              "                                 [&#x27;hum&#x27;, &#x27;holiday&#x27;, &#x27;temp&#x27;, &#x27;hr&#x27;, &#x27;month&#x27;,\n",
              "                                  &#x27;dayofweek&#x27;, &#x27;weathersit&#x27;, &#x27;year&#x27;])])</pre></div></div></div><div class=\"sk-parallel\"><div class=\"sk-parallel-item\"><div class=\"sk-item\"><div class=\"sk-label-container\"><div class=\"sk-label sk-toggleable\"><input class=\"sk-toggleable__control sk-hidden--visually\" id=\"sk-estimator-id-28\" type=\"checkbox\" ><label for=\"sk-estimator-id-28\" class=\"sk-toggleable__label sk-toggleable__label-arrow\">standard</label><div class=\"sk-toggleable__content\"><pre>[&#x27;hum&#x27;, &#x27;holiday&#x27;, &#x27;temp&#x27;, &#x27;hr&#x27;, &#x27;month&#x27;, &#x27;dayofweek&#x27;, &#x27;weathersit&#x27;, &#x27;year&#x27;]</pre></div></div></div><div class=\"sk-serial\"><div class=\"sk-item\"><div class=\"sk-estimator sk-toggleable\"><input class=\"sk-toggleable__control sk-hidden--visually\" id=\"sk-estimator-id-29\" type=\"checkbox\" ><label for=\"sk-estimator-id-29\" class=\"sk-toggleable__label sk-toggleable__label-arrow\">StandardScaler</label><div class=\"sk-toggleable__content\"><pre>StandardScaler()</pre></div></div></div></div></div></div><div class=\"sk-parallel-item\"><div class=\"sk-item\"><div class=\"sk-label-container\"><div class=\"sk-label sk-toggleable\"><input class=\"sk-toggleable__control sk-hidden--visually\" id=\"sk-estimator-id-30\" type=\"checkbox\" ><label for=\"sk-estimator-id-30\" class=\"sk-toggleable__label sk-toggleable__label-arrow\">remainder</label><div class=\"sk-toggleable__content\"><pre>[]</pre></div></div></div><div class=\"sk-serial\"><div class=\"sk-item\"><div class=\"sk-estimator sk-toggleable\"><input class=\"sk-toggleable__control sk-hidden--visually\" id=\"sk-estimator-id-31\" type=\"checkbox\" ><label for=\"sk-estimator-id-31\" class=\"sk-toggleable__label sk-toggleable__label-arrow\">passthrough</label><div class=\"sk-toggleable__content\"><pre>passthrough</pre></div></div></div></div></div></div></div></div><div class=\"sk-item sk-dashed-wrapped\"><div class=\"sk-label-container\"><div class=\"sk-label sk-toggleable\"><input class=\"sk-toggleable__control sk-hidden--visually\" id=\"sk-estimator-id-32\" type=\"checkbox\" ><label for=\"sk-estimator-id-32\" class=\"sk-toggleable__label sk-toggleable__label-arrow\">model: TransformedTargetRegressor</label><div class=\"sk-toggleable__content\"><pre>TransformedTargetRegressor(func=&lt;ufunc &#x27;log&#x27;&gt;, inverse_func=&lt;ufunc &#x27;exp&#x27;&gt;,\n",
              "                           regressor=&lt;catboost.core.CatBoostRegressor object at 0x00000241CE26F710&gt;)</pre></div></div></div><div class=\"sk-parallel\"><div class=\"sk-parallel-item\"><div class=\"sk-item\"><div class=\"sk-label-container\"><div class=\"sk-label sk-toggleable\"><input class=\"sk-toggleable__control sk-hidden--visually\" id=\"sk-estimator-id-33\" type=\"checkbox\" ><label for=\"sk-estimator-id-33\" class=\"sk-toggleable__label sk-toggleable__label-arrow\">regressor: CatBoostRegressor</label><div class=\"sk-toggleable__content\"><pre>&lt;catboost.core.CatBoostRegressor object at 0x00000241CE26F710&gt;</pre></div></div></div><div class=\"sk-serial\"><div class=\"sk-item\"><div class=\"sk-estimator sk-toggleable\"><input class=\"sk-toggleable__control sk-hidden--visually\" id=\"sk-estimator-id-34\" type=\"checkbox\" ><label for=\"sk-estimator-id-34\" class=\"sk-toggleable__label sk-toggleable__label-arrow\">CatBoostRegressor</label><div class=\"sk-toggleable__content\"><pre>&lt;catboost.core.CatBoostRegressor object at 0x00000241CE26F710&gt;</pre></div></div></div></div></div></div></div></div></div></div></div></div></div></div></div></div></div>"
            ],
            "text/plain": [
              "GridSearchCV(cv=5,\n",
              "             estimator=Pipeline(steps=[('transform',\n",
              "                                        ColumnTransformer(remainder='passthrough',\n",
              "                                                          transformers=[('standard',\n",
              "                                                                         StandardScaler(),\n",
              "                                                                         ['hum',\n",
              "                                                                          'holiday',\n",
              "                                                                          'temp',\n",
              "                                                                          'hr',\n",
              "                                                                          'month',\n",
              "                                                                          'dayofweek',\n",
              "                                                                          'weathersit',\n",
              "                                                                          'year'])])),\n",
              "                                       ('model',\n",
              "                                        TransformedTargetRegressor(func=<ufunc 'log'>,\n",
              "                                                                   inverse_func=<ufunc 'exp'>,\n",
              "                                                                   regressor=<catboost.core.CatBoostRegressor object at 0x00000241CE26F710>))]),\n",
              "             n_jobs=-1,\n",
              "             param_grid={'model__regressor__border_count': [112, 128, 144],\n",
              "                         'model__regressor__depth': [10, 12, 14],\n",
              "                         'model__regressor__iterations': [140, 145, 150, 155],\n",
              "                         'model__regressor__l2_leaf_reg': [1, 2, 3],\n",
              "                         'model__regressor__learning_rate': [0.2, 0.3, 0.4],\n",
              "                         'model__regressor__od_type': ['IncToDec', 'Iter']},\n",
              "             scoring='neg_mean_absolute_error')"
            ]
          },
          "execution_count": 44,
          "metadata": {},
          "output_type": "execute_result"
        }
      ],
      "source": [
        "hyperparam_space2 = {\n",
        "    'model__regressor__iterations': [140,145,150,155],  # Number of boosting iterations\n",
        "    'model__regressor__learning_rate': [0.2,0.3,0.4],  # Learning rate\n",
        "    'model__regressor__depth': [10,12,14],  # Depth of the trees\n",
        "    'model__regressor__l2_leaf_reg': [1,2,3],  # L2 regularization coefficient\n",
        "    'model__regressor__border_count': [112,128,144],  # Number of splits for numeric features\n",
        "    'model__regressor__od_type': ['IncToDec'],  # Type of overfitting detector\n",
        "}\n",
        "\n",
        "\n",
        "cat = CatBoostRegressor(random_state=31, verbose=False)\n",
        "cat_ttr = TransformedTargetRegressor(cat, func=np.log, inverse_func=np.exp)\n",
        "model_after_tuning2 = Pipeline([\n",
        "    ('transform', transformer),\n",
        "    ('model', cat_ttr)\n",
        "])\n",
        "\n",
        "gridsearch_after_tuning2 = GridSearchCV(\n",
        "    estimator=model_after_tuning2,\n",
        "    param_grid=hyperparam_space2,\n",
        "    cv=5,\n",
        "    scoring = 'neg_mean_absolute_error',\n",
        "    n_jobs = -1\n",
        ")\n",
        "\n",
        "gridsearch_after_tuning2.fit(X_train, y_train)"
      ]
    },
    {
      "cell_type": "code",
      "execution_count": 45,
      "metadata": {
        "id": "hJ8DbRQKVoPm"
      },
      "outputs": [
        {
          "data": {
            "text/plain": [
              "{'model__regressor__border_count': 112,\n",
              " 'model__regressor__depth': 10,\n",
              " 'model__regressor__iterations': 155,\n",
              " 'model__regressor__l2_leaf_reg': 1,\n",
              " 'model__regressor__learning_rate': 0.2,\n",
              " 'model__regressor__od_type': 'IncToDec'}"
            ]
          },
          "execution_count": 45,
          "metadata": {},
          "output_type": "execute_result"
        }
      ],
      "source": [
        "gridsearch_after_tuning2.best_params_"
      ]
    },
    {
      "cell_type": "code",
      "execution_count": 46,
      "metadata": {
        "id": "z_tG_y8GVoPm"
      },
      "outputs": [
        {
          "data": {
            "text/html": [
              "<div>\n",
              "<style scoped>\n",
              "    .dataframe tbody tr th:only-of-type {\n",
              "        vertical-align: middle;\n",
              "    }\n",
              "\n",
              "    .dataframe tbody tr th {\n",
              "        vertical-align: top;\n",
              "    }\n",
              "\n",
              "    .dataframe thead th {\n",
              "        text-align: right;\n",
              "    }\n",
              "</style>\n",
              "<table border=\"1\" class=\"dataframe\">\n",
              "  <thead>\n",
              "    <tr style=\"text-align: right;\">\n",
              "      <th></th>\n",
              "      <th>model</th>\n",
              "      <th>RMSE</th>\n",
              "      <th>MAE</th>\n",
              "      <th>MAPE</th>\n",
              "    </tr>\n",
              "  </thead>\n",
              "  <tbody>\n",
              "    <tr>\n",
              "      <th>0</th>\n",
              "      <td>Catboost Transformed Before Tuning</td>\n",
              "      <td>42.390060</td>\n",
              "      <td>24.840857</td>\n",
              "      <td>0.240317</td>\n",
              "    </tr>\n",
              "    <tr>\n",
              "      <th>1</th>\n",
              "      <td>Catboost Transformed After Tuning</td>\n",
              "      <td>43.023493</td>\n",
              "      <td>24.956544</td>\n",
              "      <td>0.242029</td>\n",
              "    </tr>\n",
              "    <tr>\n",
              "      <th>2</th>\n",
              "      <td>Catboost Transformed After 2nd Tuning</td>\n",
              "      <td>43.039260</td>\n",
              "      <td>24.969350</td>\n",
              "      <td>0.241826</td>\n",
              "    </tr>\n",
              "  </tbody>\n",
              "</table>\n",
              "</div>"
            ],
            "text/plain": [
              "                                   model       RMSE        MAE      MAPE\n",
              "0     Catboost Transformed Before Tuning  42.390060  24.840857  0.240317\n",
              "1      Catboost Transformed After Tuning  43.023493  24.956544  0.242029\n",
              "2  Catboost Transformed After 2nd Tuning  43.039260  24.969350  0.241826"
            ]
          },
          "execution_count": 46,
          "metadata": {},
          "output_type": "execute_result"
        }
      ],
      "source": [
        "# Define models\n",
        "model_after_tuning2 = gridsearch_after_tuning2.best_estimator_\n",
        "model_after_tuning2.fit(X_train, y_train)\n",
        "\n",
        "y_pred_after_tuning2 = model_after_tuning2.predict(X_test)\n",
        "list_algo.append('Catboost Transformed After 2nd Tuning')\n",
        "test_rmse_arr.append(np.sqrt(mean_squared_error(y_test,y_pred_after_tuning2)))\n",
        "test_mae_arr.append(mean_absolute_error(y_test,y_pred_after_tuning2))\n",
        "test_mape_arr.append(mean_absolute_percentage_error(y_test,y_pred_after_tuning2))\n",
        "\n",
        "model_result = pd.DataFrame({\n",
        "    'model': list_algo,\n",
        "    'RMSE': test_rmse_arr,\n",
        "    'MAE': test_mae_arr,\n",
        "    'MAPE': test_mape_arr,\n",
        "})\n",
        "\n",
        "\n",
        "model_result"
      ]
    },
    {
      "cell_type": "code",
      "execution_count": 47,
      "metadata": {
        "id": "9IV6ZiCyVoPn"
      },
      "outputs": [
        {
          "data": {
            "text/html": [
              "<div>\n",
              "<style scoped>\n",
              "    .dataframe tbody tr th:only-of-type {\n",
              "        vertical-align: middle;\n",
              "    }\n",
              "\n",
              "    .dataframe tbody tr th {\n",
              "        vertical-align: top;\n",
              "    }\n",
              "\n",
              "    .dataframe thead th {\n",
              "        text-align: right;\n",
              "    }\n",
              "</style>\n",
              "<table border=\"1\" class=\"dataframe\">\n",
              "  <thead>\n",
              "    <tr style=\"text-align: right;\">\n",
              "      <th></th>\n",
              "      <th>model</th>\n",
              "      <th>RMSE</th>\n",
              "      <th>MAE</th>\n",
              "      <th>MAPE</th>\n",
              "    </tr>\n",
              "  </thead>\n",
              "  <tbody>\n",
              "    <tr>\n",
              "      <th>0</th>\n",
              "      <td>Catboost Transformed Before Tuning</td>\n",
              "      <td>42.390060</td>\n",
              "      <td>24.840857</td>\n",
              "      <td>0.240317</td>\n",
              "    </tr>\n",
              "    <tr>\n",
              "      <th>1</th>\n",
              "      <td>Catboost Transformed After Tuning</td>\n",
              "      <td>43.023493</td>\n",
              "      <td>24.956544</td>\n",
              "      <td>0.242029</td>\n",
              "    </tr>\n",
              "    <tr>\n",
              "      <th>2</th>\n",
              "      <td>Catboost Transformed After 2nd Tuning</td>\n",
              "      <td>43.039260</td>\n",
              "      <td>24.969350</td>\n",
              "      <td>0.241826</td>\n",
              "    </tr>\n",
              "  </tbody>\n",
              "</table>\n",
              "</div>"
            ],
            "text/plain": [
              "                                   model       RMSE        MAE      MAPE\n",
              "0     Catboost Transformed Before Tuning  42.390060  24.840857  0.240317\n",
              "1      Catboost Transformed After Tuning  43.023493  24.956544  0.242029\n",
              "2  Catboost Transformed After 2nd Tuning  43.039260  24.969350  0.241826"
            ]
          },
          "execution_count": 47,
          "metadata": {},
          "output_type": "execute_result"
        }
      ],
      "source": [
        "model_result.sort_values('MAE')"
      ]
    },
    {
      "cell_type": "code",
      "execution_count": 59,
      "metadata": {},
      "outputs": [
        {
          "data": {
            "image/png": "[encoded data removed]",
            "text/plain": [
              "<Figure size 1500x1000 with 2 Axes>"
            ]
          },
          "metadata": {},
          "output_type": "display_data"
        }
      ],
      "source": [
        "fig, (ax1, ax2) = plt.subplots(2, 1, figsize=(15, 10))\n",
        "\n",
        "# Plot actual vs predicted price\n",
        "ax1.scatter(y_pred_before_tuning, y_test, alpha=0.3)\n",
        "ax1.plot(y_test, y_test, color='r', alpha=1)\n",
        "ax1.set_title('Predicted vs Actual Price', fontweight='bold')\n",
        "ax1.set_xlabel('Predicted Price')\n",
        "ax1.set_ylabel('Actual Price')\n",
        "\n",
        "# Plot residual plot\n",
        "diff = y_test - y_pred_before_tuning\n",
        "ax2.scatter(y_pred_before_tuning, diff)\n",
        "ax2.axhline(y=0, color='r', linestyle='--')\n",
        "ax2.set_xlabel('Predicted Values')\n",
        "ax2.set_ylabel('Residuals')\n",
        "ax2.set_title('Residual Plot', fontweight='bold')\n",
        "\n",
        "plt.subplots_adjust(hspace=0.3)"
      ]
    },
    {
      "cell_type": "code",
      "execution_count": 33,
      "metadata": {},
      "outputs": [
        {
          "data": {
            "text/html": [
              "<div>\n",
              "<style scoped>\n",
              "    .dataframe tbody tr th:only-of-type {\n",
              "        vertical-align: middle;\n",
              "    }\n",
              "\n",
              "    .dataframe tbody tr th {\n",
              "        vertical-align: top;\n",
              "    }\n",
              "\n",
              "    .dataframe thead th {\n",
              "        text-align: right;\n",
              "    }\n",
              "</style>\n",
              "<table border=\"1\" class=\"dataframe\">\n",
              "  <thead>\n",
              "    <tr style=\"text-align: right;\">\n",
              "      <th></th>\n",
              "      <th>true</th>\n",
              "      <th>pred</th>\n",
              "      <th>bins</th>\n",
              "    </tr>\n",
              "  </thead>\n",
              "  <tbody>\n",
              "    <tr>\n",
              "      <th>7305</th>\n",
              "      <td>40</td>\n",
              "      <td>68.527495</td>\n",
              "      <td>1-250</td>\n",
              "    </tr>\n",
              "    <tr>\n",
              "      <th>1844</th>\n",
              "      <td>607</td>\n",
              "      <td>670.322358</td>\n",
              "      <td>500-750</td>\n",
              "    </tr>\n",
              "    <tr>\n",
              "      <th>11077</th>\n",
              "      <td>257</td>\n",
              "      <td>426.114180</td>\n",
              "      <td>250-500</td>\n",
              "    </tr>\n",
              "    <tr>\n",
              "      <th>4676</th>\n",
              "      <td>276</td>\n",
              "      <td>232.795951</td>\n",
              "      <td>250-500</td>\n",
              "    </tr>\n",
              "    <tr>\n",
              "      <th>9141</th>\n",
              "      <td>665</td>\n",
              "      <td>656.678815</td>\n",
              "      <td>500-750</td>\n",
              "    </tr>\n",
              "  </tbody>\n",
              "</table>\n",
              "</div>"
            ],
            "text/plain": [
              "       true        pred     bins\n",
              "7305     40   68.527495    1-250\n",
              "1844    607  670.322358  500-750\n",
              "11077   257  426.114180  250-500\n",
              "4676    276  232.795951  250-500\n",
              "9141    665  656.678815  500-750"
            ]
          },
          "execution_count": 33,
          "metadata": {},
          "output_type": "execute_result"
        }
      ],
      "source": [
        "data = pd.DataFrame(y_test).rename(columns={'cnt':'true'})\n",
        "data['pred'] = y_pred_before_tuning\n",
        "data['bins'] = pd.cut(x=data['true'], \n",
        "                      bins=[1, 250,500 ,750 , 1000], \n",
        "                      labels=['1-250', '250-500', '500-750', '750-1000'])\n",
        "data.head()"
      ]
    },
    {
      "cell_type": "code",
      "execution_count": 34,
      "metadata": {},
      "outputs": [
        {
          "data": {
            "text/html": [
              "<div>\n",
              "<style scoped>\n",
              "    .dataframe tbody tr th:only-of-type {\n",
              "        vertical-align: middle;\n",
              "    }\n",
              "\n",
              "    .dataframe tbody tr th {\n",
              "        vertical-align: top;\n",
              "    }\n",
              "\n",
              "    .dataframe thead th {\n",
              "        text-align: right;\n",
              "    }\n",
              "</style>\n",
              "<table border=\"1\" class=\"dataframe\">\n",
              "  <thead>\n",
              "    <tr style=\"text-align: right;\">\n",
              "      <th></th>\n",
              "      <th>true</th>\n",
              "      <th>pred</th>\n",
              "      <th>bins</th>\n",
              "      <th>mape</th>\n",
              "    </tr>\n",
              "  </thead>\n",
              "  <tbody>\n",
              "    <tr>\n",
              "      <th>7305</th>\n",
              "      <td>40</td>\n",
              "      <td>68.527495</td>\n",
              "      <td>1-250</td>\n",
              "      <td>0.713187</td>\n",
              "    </tr>\n",
              "    <tr>\n",
              "      <th>1844</th>\n",
              "      <td>607</td>\n",
              "      <td>670.322358</td>\n",
              "      <td>500-750</td>\n",
              "      <td>0.104320</td>\n",
              "    </tr>\n",
              "    <tr>\n",
              "      <th>11077</th>\n",
              "      <td>257</td>\n",
              "      <td>426.114180</td>\n",
              "      <td>250-500</td>\n",
              "      <td>0.658032</td>\n",
              "    </tr>\n",
              "    <tr>\n",
              "      <th>4676</th>\n",
              "      <td>276</td>\n",
              "      <td>232.795951</td>\n",
              "      <td>250-500</td>\n",
              "      <td>0.156536</td>\n",
              "    </tr>\n",
              "    <tr>\n",
              "      <th>9141</th>\n",
              "      <td>665</td>\n",
              "      <td>656.678815</td>\n",
              "      <td>500-750</td>\n",
              "      <td>0.012513</td>\n",
              "    </tr>\n",
              "  </tbody>\n",
              "</table>\n",
              "</div>"
            ],
            "text/plain": [
              "       true        pred     bins      mape\n",
              "7305     40   68.527495    1-250  0.713187\n",
              "1844    607  670.322358  500-750  0.104320\n",
              "11077   257  426.114180  250-500  0.658032\n",
              "4676    276  232.795951  250-500  0.156536\n",
              "9141    665  656.678815  500-750  0.012513"
            ]
          },
          "execution_count": 34,
          "metadata": {},
          "output_type": "execute_result"
        }
      ],
      "source": [
        "def mape(data):\n",
        "    return mean_absolute_percentage_error([data['true']], [data['pred']])\n",
        "\n",
        "data['mape'] = data[['true','pred']].apply(mape, axis=1)\n",
        "data.head()"
      ]
    },
    {
      "cell_type": "code",
      "execution_count": 35,
      "metadata": {},
      "outputs": [
        {
          "data": {
            "text/html": [
              "<div>\n",
              "<style scoped>\n",
              "    .dataframe tbody tr th:only-of-type {\n",
              "        vertical-align: middle;\n",
              "    }\n",
              "\n",
              "    .dataframe tbody tr th {\n",
              "        vertical-align: top;\n",
              "    }\n",
              "\n",
              "    .dataframe thead th {\n",
              "        text-align: right;\n",
              "    }\n",
              "</style>\n",
              "<table border=\"1\" class=\"dataframe\">\n",
              "  <thead>\n",
              "    <tr style=\"text-align: right;\">\n",
              "      <th></th>\n",
              "      <th>mape</th>\n",
              "    </tr>\n",
              "    <tr>\n",
              "      <th>bins</th>\n",
              "      <th></th>\n",
              "    </tr>\n",
              "  </thead>\n",
              "  <tbody>\n",
              "    <tr>\n",
              "      <th>1-250</th>\n",
              "      <td>0.274095</td>\n",
              "    </tr>\n",
              "    <tr>\n",
              "      <th>250-500</th>\n",
              "      <td>0.118392</td>\n",
              "    </tr>\n",
              "    <tr>\n",
              "      <th>500-750</th>\n",
              "      <td>0.106638</td>\n",
              "    </tr>\n",
              "    <tr>\n",
              "      <th>750-1000</th>\n",
              "      <td>0.059895</td>\n",
              "    </tr>\n",
              "  </tbody>\n",
              "</table>\n",
              "</div>"
            ],
            "text/plain": [
              "              mape\n",
              "bins              \n",
              "1-250     0.274095\n",
              "250-500   0.118392\n",
              "500-750   0.106638\n",
              "750-1000  0.059895"
            ]
          },
          "execution_count": 35,
          "metadata": {},
          "output_type": "execute_result"
        }
      ],
      "source": [
        "data.groupby('bins')[['mape']].mean()"
      ]
    },
    {
      "cell_type": "code",
      "execution_count": 40,
      "metadata": {},
      "outputs": [
        {
          "data": {
            "image/png": "[encoded data removed]",
            "text/plain": [
              "<Figure size 1500x1000 with 2 Axes>"
            ]
          },
          "metadata": {},
          "output_type": "display_data"
        }
      ],
      "source": [
        "fig, (ax1, ax2) = plt.subplots(2, 1, figsize=(15, 10))\n",
        "\n",
        "sns.countplot(data=data, x='bins', color='lightblue', ax=ax1)\n",
        "ax1.set_ylabel('count of data')\n",
        "\n",
        "data_by = data.groupby('bins')[['mape']].mean()\n",
        "cols = ['palegreen' if x < 0.25 else '#708090' for x in data_by['mape']]\n",
        "sns.barplot(data=data, x='bins', y='mape', \n",
        "            palette=cols, ax=ax2, \n",
        "            estimator='mean',\n",
        "            errorbar=None)\n",
        "ax2.axhline(y=0.25, color='red', ls='--');\n",
        "ax2.set_ylabel('% MAPE');"
      ]
    },
    {
      "cell_type": "markdown",
      "metadata": {},
      "source": [
        "## Features Importances"
      ]
    },
    {
      "cell_type": "markdown",
      "metadata": {},
      "source": [
        "To identify the actual features that significantly influence the target (cnt), we can examine them using the `feature_importances_` function."
      ]
    },
    {
      "cell_type": "code",
      "execution_count": 56,
      "metadata": {},
      "outputs": [
        {
          "data": {
            "image/png": "[encoded data removed]",
            "text/plain": [
              "<Figure size 640x480 with 1 Axes>"
            ]
          },
          "metadata": {},
          "output_type": "display_data"
        }
      ],
      "source": [
        "feature_imp = pd.Series(model_before_tuning.named_steps['model'].regressor_.feature_importances_,model_before_tuning.named_steps['transform'].get_feature_names_out()).sort_values(ascending = False).head()\n",
        "feature_imp.plot(kind='barh', title='Feature Importances');"
      ]
    },
    {
      "cell_type": "markdown",
      "metadata": {},
      "source": [
        "Based on the feature importance analysis, it appears that the most influential factor affecting the model is the hour or time of day during which the bike is being used."
      ]
    },
    {
      "cell_type": "markdown",
      "metadata": {
        "id": "k7wvSltNVoPo"
      },
      "source": [
        "# Conclusion"
      ]
    },
    {
      "cell_type": "markdown",
      "metadata": {
        "id": "uPXuGwZtVoPo"
      },
      "source": [
        "After preprocessing steps including cleaning, encoding, and scaling the dataset, seven different machine learning models were tested. Each model was also evaluated using a transform target regressor. The most effective model was determined to be CatBoost with a transform target regressor, showcasing RMSE of 42.12, MAE of 25.52, and MAPE of 0.248. Despite attempts at hyperparameter tuning, the initial default settings for CatBoost yielded better results than the tuned configurations. Subsequently, a second hyperparameter tuning was performed, aligning parameters with the optimal values from the first tuning. However, the model continued to perform best with the default CatBoost settings. An analysis of the scatterplot revealed that the model exhibited inaccurate predictions for larger predicted values.\n",
        "\n",
        "Upon examining scatter and residual plots, a pattern emerged suggesting that higher predicted values corresponded to higher errors. To gain a more objective assessment, the data was categorized into five bins: 1-250, 250-500, 500-750, 750-1000. Surprisingly, the bin encompassing the range 1-250 exhibited a notably higher count of data instances compared to the others. The subsequent creation of a bar chart with a delineating line at a MAPE value of 0.25 revealed that the first bin displayed an average error surpassing this threshold, while the larger bins remained below it. The visualization in the form of a count plot and a bar plot highlighted different observations, emphasizing the need for further investigation and potential reevaluation of the model's performance.\n",
        "\n",
        "From the MAE score of 24,84 we can assume that the model prediction can be off by more or less 25 bikes. And for MAPE score of 24% the model has a low accuracy but still acceptable. \n",
        "\n",
        "https://escholarship.org/content/qt1f71t3x9/qt1f71t3x9.pdf\n"
      ]
    },
    {
      "cell_type": "markdown",
      "metadata": {},
      "source": [
        "# Recommendation"
      ]
    },
    {
      "cell_type": "markdown",
      "metadata": {},
      "source": [
        "**Enhancing the Model and Business Impact:**\n",
        "\n",
        "To elevate our predictive model and align it closely with business objectives, we propose the following strategies:\n",
        "\n",
        "1. **Leveraging Time Series Forecasting for Demand Optimization:**\n",
        "   Incorporating time series forecasting techniques such as ARIMA, SARIMA, SARIMAX, or FB-Prophet based on date data can provide accurate predictions. This can optimize fleet distribution, enabling the bikeshare system to cater effectively to peak demand periods and enhance operational efficiency.\n",
        "\n",
        "2. **Augmenting Data Collection with Business-Critical Features:**\n",
        "   Augmenting the dataset with key business-related features such as location data, period of bike use, and total kilometers traveled by the bike can offer valuable insights. Understanding usage patterns in specific locations and during certain periods allows for targeted fleet management, leading to improved customer experience and increased ridership.\n",
        "\n",
        "3. **Exploring Advanced Machine Learning Algorithms for Precise Demand Insights:**\n",
        "   Beyond traditional models, exploring sophisticated algorithms like Support Vector Machines, Neural Networks, and ensemble methods like stacking can capture complex patterns in demand. This can provide actionable insights for better resource allocation, informed business decisions, and ultimately drive revenue growth.\n",
        "\n",
        "4. **Monitoring and Continuous Model Refinement for Effective Business Strategies:**\n",
        "   Establishing a robust monitoring system to evaluate the model's performance in real-time against defined business metrics is essential. Continuous model refinement based on real-world performance ensures that the predictive tool remains aligned with business goals. This, in turn, guides effective business strategies and investment decisions, fostering growth and competitive advantage.\n",
        "\n",
        "By incorporating these business-centric recommendations, we aim to not only refine our predictive model but also generate actionable insights that drive strategic decision-making and positively impact the bikeshare system's operational efficiency, safety measures, and overall customer satisfaction, contributing to a successful and sustainable business."
      ]
    },
    {
      "cell_type": "markdown",
      "metadata": {},
      "source": [
        "# Save Model"
      ]
    },
    {
      "cell_type": "code",
      "execution_count": 38,
      "metadata": {},
      "outputs": [],
      "source": [
        "# import pickle\n",
        "\n",
        "# with open('model_catboost_regressor_transformed_target_regressor.sav', 'wb') as file:\n",
        "#     pickle.dump(model_before_tuning, file)"
      ]
    },
    {
      "cell_type": "markdown",
      "metadata": {},
      "source": [
        "**Load Model**"
      ]
    },
    {
      "cell_type": "code",
      "execution_count": 39,
      "metadata": {},
      "outputs": [],
      "source": [
        "# with open('model_catboost_regressor_transformed_target_regressor.sav', 'rb') as file:\n",
        "#     loaded_model = pickle.load(file)"
      ]
    }
  ],
  "metadata": {
    "colab": {
      "provenance": []
    },
    "kernelspec": {
      "display_name": "Python 3",
      "language": "python",
      "name": "python3"
    },
    "language_info": {
      "codemirror_mode": {
        "name": "ipython",
        "version": 3
      },
      "file_extension": ".py",
      "mimetype": "text/x-python",
      "name": "python",
      "nbconvert_exporter": "python",
      "pygments_lexer": "ipython3",
      "version": "3.11.4"
    },
    "orig_nbformat": 4
  },
  "nbformat": 4,
  "nbformat_minor": 0
}
